{
 "cells": [
  {
   "cell_type": "markdown",
   "metadata": {},
   "source": [
    "# Классы в Python"
   ]
  },
  {
   "cell_type": "markdown",
   "metadata": {},
   "source": [
    "## Основные понятия и определения\n",
    "\n",
    "\n",
    "#### Класс\n",
    "Описывает модель объекта, его свойства и поведение. Говоря языком программиста, класс — такой тип данных, который создается для описания сложных объектов.\n",
    "\n",
    "#### Экземпляр=Объект\n",
    "Для краткости вместо «Объект, порожденный классом „Стул“» говорят «экземпляр класса „Стул“».\n",
    "Хранит конкретные значения свойств и информацию о принадлежности к классу. Может выполнять методы.\n",
    "\n",
    "#### Атрибут\n",
    "Свойство, присущее объекту. Класс объекта определяет, какие атрибуты есть у объекта. Конкретные значения атрибутов — характеристика уже не класса, а конкретного экземпляра этого класса, то есть объекта.\n",
    "\n",
    "#### Метод\n",
    "Действие, которое объект может выполнять над самим собой или другими объектами.\n",
    "\n",
    "3. Аналогии:\n",
    "    1. Класс — проект, идея, модель\n",
    "    2. Объект — реализация, экземпляр\n",
    "    3. Атрибут — характеристика объекта (может быть создана в модели, может быть и нет)\n",
    "    4. Метод — деятельность объекта\n",
    "\n",
    "4. Три кита классического ООП:\n",
    "    1. Инкапсуляция (скрытие)\n",
    "    2. Полиморфизм\n",
    "    3. Наследование\n",
    "   "
   ]
  },
  {
   "cell_type": "markdown",
   "metadata": {},
   "source": [
    "## Как объяснить, зачем нужно ООП\n",
    "\n",
    "1. Удобство разработки больших проектов\n",
    "2. Безопасность (не очень относится к Python) \n",
    "3. Лаконичность записей (перегрузки операций)\n",
    "4. Построение иерархий объектов (проектирование интерфейсов, например, пользовательских)\n",
    "5. Это круто и современно"
   ]
  },
  {
   "cell_type": "markdown",
   "metadata": {},
   "source": [
    "## Что есть в Python\n",
    "\n",
    "1. Модель ООП в Python относительно простая по сравнению, например, с С++\n",
    "2. Поэтому она проста в реализации и позволяет понять **базовые** принципы.\n",
    "3. Python 3 — изначально объектный язык, в котором все есть объект."
   ]
  },
  {
   "cell_type": "code",
   "execution_count": 1,
   "metadata": {},
   "outputs": [
    {
     "name": "stdout",
     "output_type": "stream",
     "text": [
      "<class 'int'>\n"
     ]
    }
   ],
   "source": [
    "print(type(5))"
   ]
  },
  {
   "cell_type": "code",
   "execution_count": 2,
   "metadata": {},
   "outputs": [
    {
     "name": "stdout",
     "output_type": "stream",
     "text": [
      "<class 'float'>\n"
     ]
    }
   ],
   "source": [
    "print(type(1.5))"
   ]
  },
  {
   "cell_type": "markdown",
   "metadata": {},
   "source": [
    "Классы принято именовать с заглавной буквы, хотя во встроенных классах (int, float и т.д.) это не соблюдается."
   ]
  },
  {
   "cell_type": "code",
   "execution_count": 1,
   "metadata": {},
   "outputs": [],
   "source": [
    "class Fruit:\n",
    "    pass"
   ]
  },
  {
   "cell_type": "code",
   "execution_count": 2,
   "metadata": {},
   "outputs": [],
   "source": [
    "a = Fruit()"
   ]
  },
  {
   "cell_type": "code",
   "execution_count": 3,
   "metadata": {},
   "outputs": [
    {
     "name": "stdout",
     "output_type": "stream",
     "text": [
      "<__main__.Fruit object at 0x000002811315BD30>\n"
     ]
    }
   ],
   "source": [
    "print(a)"
   ]
  },
  {
   "cell_type": "code",
   "execution_count": 4,
   "metadata": {},
   "outputs": [
    {
     "name": "stdout",
     "output_type": "stream",
     "text": [
      "<class '__main__.Fruit'>\n"
     ]
    }
   ],
   "source": [
    "print(type(a))"
   ]
  },
  {
   "cell_type": "markdown",
   "metadata": {},
   "source": [
    "Атрибуты можно не только устанавливать, но и читать. При чтении еще не созданного атрибута будет появляться ошибка AttributeError"
   ]
  },
  {
   "cell_type": "code",
   "execution_count": 3,
   "metadata": {},
   "outputs": [],
   "source": [
    "a.color = 'Yellow'\n",
    "a.weight = 3"
   ]
  },
  {
   "cell_type": "code",
   "execution_count": 10,
   "metadata": {},
   "outputs": [
    {
     "data": {
      "text/plain": [
       "'Yellow'"
      ]
     },
     "execution_count": 10,
     "metadata": {},
     "output_type": "execute_result"
    }
   ],
   "source": [
    "a.color"
   ]
  },
  {
   "cell_type": "code",
   "execution_count": 11,
   "metadata": {},
   "outputs": [
    {
     "data": {
      "text/plain": [
       "3"
      ]
     },
     "execution_count": 11,
     "metadata": {},
     "output_type": "execute_result"
    }
   ],
   "source": [
    "a.weight"
   ]
  },
  {
   "cell_type": "code",
   "execution_count": 12,
   "metadata": {},
   "outputs": [
    {
     "data": {
      "text/plain": [
       "{'color': 'Yellow', 'weight': 3}"
      ]
     },
     "execution_count": 12,
     "metadata": {},
     "output_type": "execute_result"
    }
   ],
   "source": [
    "a.__dict__"
   ]
  },
  {
   "cell_type": "code",
   "execution_count": 9,
   "metadata": {},
   "outputs": [
    {
     "data": {
      "text/plain": [
       "['__class__',\n",
       " '__delattr__',\n",
       " '__dict__',\n",
       " '__dir__',\n",
       " '__doc__',\n",
       " '__eq__',\n",
       " '__format__',\n",
       " '__ge__',\n",
       " '__getattribute__',\n",
       " '__gt__',\n",
       " '__hash__',\n",
       " '__init__',\n",
       " '__init_subclass__',\n",
       " '__le__',\n",
       " '__lt__',\n",
       " '__module__',\n",
       " '__ne__',\n",
       " '__new__',\n",
       " '__reduce__',\n",
       " '__reduce_ex__',\n",
       " '__repr__',\n",
       " '__setattr__',\n",
       " '__sizeof__',\n",
       " '__str__',\n",
       " '__subclasshook__',\n",
       " '__weakref__',\n",
       " 'color',\n",
       " 'weight']"
      ]
     },
     "execution_count": 9,
     "metadata": {},
     "output_type": "execute_result"
    }
   ],
   "source": [
    "dir(a)"
   ]
  },
  {
   "cell_type": "code",
   "execution_count": 10,
   "metadata": {},
   "outputs": [
    {
     "data": {
      "text/plain": [
       "'Fruit'"
      ]
     },
     "execution_count": 10,
     "metadata": {},
     "output_type": "execute_result"
    }
   ],
   "source": [
    "a.__class__.__name__"
   ]
  },
  {
   "cell_type": "code",
   "execution_count": 16,
   "metadata": {},
   "outputs": [],
   "source": [
    "b = Fruit()"
   ]
  },
  {
   "cell_type": "code",
   "execution_count": 17,
   "metadata": {},
   "outputs": [
    {
     "data": {
      "text/plain": [
       "{}"
      ]
     },
     "execution_count": 17,
     "metadata": {},
     "output_type": "execute_result"
    }
   ],
   "source": [
    "b.__dict__"
   ]
  },
  {
   "cell_type": "code",
   "execution_count": 18,
   "metadata": {},
   "outputs": [
    {
     "ename": "AttributeError",
     "evalue": "'Fruit' object has no attribute 'color'",
     "output_type": "error",
     "traceback": [
      "\u001b[1;31m---------------------------------------------------------------------------\u001b[0m",
      "\u001b[1;31mAttributeError\u001b[0m                            Traceback (most recent call last)",
      "\u001b[1;32m<ipython-input-18-aee739beff1a>\u001b[0m in \u001b[0;36m<module>\u001b[1;34m\u001b[0m\n\u001b[1;32m----> 1\u001b[1;33m \u001b[0mb\u001b[0m\u001b[1;33m.\u001b[0m\u001b[0mcolor\u001b[0m\u001b[1;33m\u001b[0m\u001b[1;33m\u001b[0m\u001b[0m\n\u001b[0m",
      "\u001b[1;31mAttributeError\u001b[0m: 'Fruit' object has no attribute 'color'"
     ]
    }
   ],
   "source": [
    "b.color"
   ]
  },
  {
   "cell_type": "code",
   "execution_count": 19,
   "metadata": {},
   "outputs": [
    {
     "data": {
      "text/plain": [
       "False"
      ]
     },
     "execution_count": 19,
     "metadata": {},
     "output_type": "execute_result"
    }
   ],
   "source": [
    "b is a"
   ]
  },
  {
   "cell_type": "code",
   "execution_count": 20,
   "metadata": {},
   "outputs": [
    {
     "data": {
      "text/plain": [
       "'Yellow'"
      ]
     },
     "execution_count": 20,
     "metadata": {},
     "output_type": "execute_result"
    }
   ],
   "source": [
    "b = a\n",
    "b.color "
   ]
  },
  {
   "cell_type": "markdown",
   "metadata": {},
   "source": [
    "## Поработаем с методами"
   ]
  },
  {
   "cell_type": "code",
   "execution_count": 19,
   "metadata": {},
   "outputs": [
    {
     "name": "stdout",
     "output_type": "stream",
     "text": [
      "Привет, Мир!\n",
      "Привет, Петя!\n",
      "Привет, Саша!\n",
      "Хорошая погода, не так ли?\n"
     ]
    }
   ],
   "source": [
    "class Greeter:\n",
    "    def hello_world(self):\n",
    "        print(\"Привет, Мир!\")\n",
    "\n",
    "    def greeting(self, name):\n",
    "        ''' Поприветствовать человека с именем name.'''\n",
    "        print(\"Привет, {}!\".format(name))\n",
    "\n",
    "    def start_talking(self, name, weather_is_good=True):\n",
    "        ''' Поприветствовать и начать разговор с вопроса о погоде.'''\n",
    "        print(\"Привет, {}!\".format(name))\n",
    "        if weather_is_good:\n",
    "            print(\"Хорошая погода, не так ли?\")\n",
    "        else:\n",
    "            print(\"Отвратительная погода, не так ли?\")\n",
    "\n",
    "\n",
    "greet = Greeter()\n",
    "greet.hello_world()     # Привет, Мир!\n",
    "greet.greeting(\"Петя\")  # Привет, Петя!\n",
    "greet.start_talking(\"Саша\")"
   ]
  },
  {
   "cell_type": "markdown",
   "metadata": {},
   "source": [
    "Заметьте, что у любого метода в описании есть первый параметр self. В принципе, там может быть любое имя, но хорошим стилем программирования является именно имя self. Что же передается в self?"
   ]
  },
  {
   "cell_type": "code",
   "execution_count": 24,
   "metadata": {},
   "outputs": [],
   "source": [
    "class SelfTest():\n",
    "    def method(self, text):\n",
    "        print(self, ':', text)\n",
    "\n",
    "a = SelfTest()\n",
    "b = SelfTest()"
   ]
  },
  {
   "cell_type": "code",
   "execution_count": 25,
   "metadata": {},
   "outputs": [
    {
     "name": "stdout",
     "output_type": "stream",
     "text": [
      "<__main__.SelfTest object at 0x0000027CB68C8F98> : Это экземпляр a\n",
      "<__main__.SelfTest object at 0x0000027CB68C8F60> : Это экземпляр b\n"
     ]
    }
   ],
   "source": [
    "a.method('Это экземпляр a')\n",
    "b.method('Это экземпляр b')"
   ]
  },
  {
   "cell_type": "code",
   "execution_count": 27,
   "metadata": {},
   "outputs": [
    {
     "data": {
      "text/plain": [
       "<__main__.SelfTest at 0x27cb68c8f60>"
      ]
     },
     "execution_count": 27,
     "metadata": {},
     "output_type": "execute_result"
    }
   ],
   "source": [
    "b"
   ]
  },
  {
   "cell_type": "markdown",
   "metadata": {},
   "source": [
    "## Инициализатор (метод __init__)"
   ]
  },
  {
   "cell_type": "markdown",
   "metadata": {},
   "source": [
    "А как же создается сам объект? \n",
    "\n",
    "В других языках программирования, например, существуют так называемые конструкторы. В Python тоже есть нечто похожее. Это специальный метод, который называется __new__. Только в Python его код мы обычно не видим и не пишем сами. Такой конструктор существует и работает «за кулисами». В качестве единственного параметра он принимает класс, анализирует его структуру (код) и на базе этой структуры создает пустой объект. Инициализировать его — не царское дело. Пусть этим занимается инициализатор, а не конструктор. Просьба не путать их друг с другом.\n",
    "\n",
    "Важно, что оба эти метода вызываются автоматически, когда мы создаем объект — сначала __new__, потом __init__. Например для b = Bird(“Сережа”) последовательность вызовов будет выглядеть так:\n",
    "1. __new__(Bird)\n",
    "2. __init__(b, \"Сережа\")"
   ]
  },
  {
   "cell_type": "code",
   "execution_count": 1,
   "metadata": {},
   "outputs": [
    {
     "ename": "NameError",
     "evalue": "name 'engine_on' is not defined",
     "output_type": "error",
     "traceback": [
      "\u001b[1;31m---------------------------------------------------------------------------\u001b[0m",
      "\u001b[1;31mNameError\u001b[0m                                 Traceback (most recent call last)",
      "\u001b[1;32m<ipython-input-1-eab20d5cd7f6>\u001b[0m in \u001b[0;36m<module>\u001b[1;34m\u001b[0m\n\u001b[0;32m     11\u001b[0m \u001b[0mMyCar\u001b[0m \u001b[1;33m=\u001b[0m \u001b[0mCar\u001b[0m\u001b[1;33m(\u001b[0m\u001b[1;33m)\u001b[0m\u001b[1;33m\u001b[0m\u001b[1;33m\u001b[0m\u001b[0m\n\u001b[0;32m     12\u001b[0m \u001b[0mMyCar\u001b[0m\u001b[1;33m.\u001b[0m\u001b[0mstart_engine\u001b[0m\u001b[1;33m(\u001b[0m\u001b[1;33m)\u001b[0m\u001b[1;33m\u001b[0m\u001b[1;33m\u001b[0m\u001b[0m\n\u001b[1;32m---> 13\u001b[1;33m \u001b[0mMyCar\u001b[0m\u001b[1;33m.\u001b[0m\u001b[0mdrive_to\u001b[0m\u001b[1;33m(\u001b[0m\u001b[1;34m'Yandex'\u001b[0m\u001b[1;33m)\u001b[0m\u001b[1;33m\u001b[0m\u001b[1;33m\u001b[0m\u001b[0m\n\u001b[0m",
      "\u001b[1;32m<ipython-input-1-eab20d5cd7f6>\u001b[0m in \u001b[0;36mdrive_to\u001b[1;34m(self, city)\u001b[0m\n\u001b[0;32m      4\u001b[0m \u001b[1;33m\u001b[0m\u001b[0m\n\u001b[0;32m      5\u001b[0m     \u001b[1;32mdef\u001b[0m \u001b[0mdrive_to\u001b[0m\u001b[1;33m(\u001b[0m\u001b[0mself\u001b[0m\u001b[1;33m,\u001b[0m \u001b[0mcity\u001b[0m\u001b[1;33m)\u001b[0m\u001b[1;33m:\u001b[0m\u001b[1;33m\u001b[0m\u001b[1;33m\u001b[0m\u001b[0m\n\u001b[1;32m----> 6\u001b[1;33m         \u001b[1;32mif\u001b[0m \u001b[0mengine_on\u001b[0m\u001b[1;33m:\u001b[0m\u001b[1;33m\u001b[0m\u001b[1;33m\u001b[0m\u001b[0m\n\u001b[0m\u001b[0;32m      7\u001b[0m             \u001b[0mprint\u001b[0m\u001b[1;33m(\u001b[0m\u001b[1;34m\"Едем в город {}.\"\u001b[0m\u001b[1;33m.\u001b[0m\u001b[0mformat\u001b[0m\u001b[1;33m(\u001b[0m\u001b[0mcity\u001b[0m\u001b[1;33m)\u001b[0m\u001b[1;33m)\u001b[0m\u001b[1;33m\u001b[0m\u001b[1;33m\u001b[0m\u001b[0m\n\u001b[0;32m      8\u001b[0m         \u001b[1;32melse\u001b[0m\u001b[1;33m:\u001b[0m\u001b[1;33m\u001b[0m\u001b[1;33m\u001b[0m\u001b[0m\n",
      "\u001b[1;31mNameError\u001b[0m: name 'engine_on' is not defined"
     ]
    }
   ],
   "source": [
    "class Car:\n",
    "    def start_engine(self):\n",
    "        engine_on = True\n",
    " \n",
    "    def drive_to(self, city):\n",
    "        if engine_on:\n",
    "            print(\"Едем в город {}.\".format(city))\n",
    "        else:\n",
    "            print(\"Машина не заведена, никуда не едем.\")\n",
    "\n",
    "MyCar = Car()\n",
    "MyCar.start_engine()\n",
    "MyCar.drive_to('Yandex')"
   ]
  },
  {
   "cell_type": "markdown",
   "metadata": {},
   "source": [
    "Что делать?"
   ]
  },
  {
   "cell_type": "code",
   "execution_count": 2,
   "metadata": {},
   "outputs": [
    {
     "name": "stdout",
     "output_type": "stream",
     "text": [
      "Едем в город Yandex.\n"
     ]
    }
   ],
   "source": [
    "class Car:\n",
    "    def start_engine(self):\n",
    "        self.engine_on = True\n",
    " \n",
    "    def drive_to(self, city):\n",
    "        if self.engine_on:\n",
    "            print(\"Едем в город {}.\".format(city))\n",
    "        else:\n",
    "            print(\"Машина не заведена, никуда не едем.\")\n",
    "            \n",
    "my_car = Car()\n",
    "#print(MyCar.engine_on)\n",
    "my_car.start_engine()\n",
    "my_car.drive_to('Yandex')"
   ]
  },
  {
   "cell_type": "markdown",
   "metadata": {},
   "source": [
    "В Python мало вручную выделяют и освобождают память, поэтому конструктор и деструктор используются редко, но такая возможность есть. А вот инициализатор - специальный метод, который вызывается при создании экземпляра класса - используется повсеместно."
   ]
  },
  {
   "cell_type": "code",
   "execution_count": 20,
   "metadata": {},
   "outputs": [
    {
     "name": "stdout",
     "output_type": "stream",
     "text": [
      "False\n",
      "Едем в город Владивосток.\n",
      "Машина не заведена, никуда не едем.\n"
     ]
    }
   ],
   "source": [
    "class Car:\n",
    "    def __init__(self):\n",
    "        self.engine_on = False\n",
    " \n",
    "    def start_engine(self):\n",
    "        self.engine_on = True\n",
    " \n",
    "    def drive_to(self, city):\n",
    "        if self.engine_on:\n",
    "            print(\"Едем в город {}.\".format(city))\n",
    "        else:\n",
    "            print(\"Машина не заведена, никуда не едем.\")\n",
    " \n",
    "car1 = Car()\n",
    "print(car1.engine_on)\n",
    "car1.start_engine()\n",
    "car1.drive_to('Владивосток')  # Едем в город Владивосток.\n",
    "car2 = Car()\n",
    "car2.drive_to('Лиссабон')     # Машина не заведена, никуда не едем."
   ]
  },
  {
   "cell_type": "markdown",
   "metadata": {},
   "source": [
    "Обсудим еще один вопрос: зачем нам понадобился метод start_engine, ведь его можно было бы заменить строчкой car.engine_on = True? Казалось бы, это лишнее усложнение. На самом деле нет. При дальнейшей разработке нашей программы может оказаться, что завести двигатель можно только в машине, в которой есть бензин. Если бы мы в нескольких десятках мест программы написали car.engine_on = True, нам пришлось бы найти все эти места и вставить в них проверку на наличие бензина в баке. А с методом start_engine мы можем изменить только этот метод."
   ]
  },
  {
   "cell_type": "markdown",
   "metadata": {},
   "source": [
    "## Инкапсуляция"
   ]
  },
  {
   "cell_type": "markdown",
   "metadata": {},
   "source": [
    "Такая технология сокрытия информации о внутреннем устройстве объекта за внешним интерфейсом из методов называется инкапсуляцией. Надо стараться делать интерфейс методов достаточно полным. Тогда вы, как и другие программисты, будете пользоваться этими методами, а изменения в атрибутах не будут расползаться по коду, использующему ваш класс. Кроме того, инкапсуляция позволяет шире использовать такое понятие, как полиморфизм.\n",
    "Примеры инкапсуляции из жизни - Например, кофе-машина, автомобиль или лифт.\n",
    "\n",
    "В некоторых языках программирования автор класса может закрыть доступ к атрибутам извне класса и заставить всех использующих его программистов работать только с методами. К сожалению, в Python так делать нельзя, однако стоит по возможности пользоваться только методами."
   ]
  },
  {
   "cell_type": "code",
   "execution_count": null,
   "metadata": {},
   "outputs": [],
   "source": []
  },
  {
   "cell_type": "markdown",
   "metadata": {},
   "source": [
    "Пример, показывающий принципы именования классов и методов."
   ]
  },
  {
   "cell_type": "code",
   "execution_count": 21,
   "metadata": {},
   "outputs": [
    {
     "name": "stdout",
     "output_type": "stream",
     "text": [
      "[7, 12, 14]\n"
     ]
    }
   ],
   "source": [
    "class RoboticMailDelivery:\n",
    "\n",
    "    def __init__(self):\n",
    "        self.house_flat_pairs = []\n",
    "\n",
    "    def add_mail(self, house_number, flat_number):\n",
    "        '''Добавить информацию о доставке письма по номеру дома\n",
    "        house_number, квартира flat_number.'''\n",
    "        self.house_flat_pairs.append((house_number, flat_number))\n",
    "\n",
    "    def flat_numbers_for_house(self, house_number):\n",
    "        '''Вернуть список квартир в доме house_number,\n",
    "        в которые нужно доставить письма.'''\n",
    "        return sorted([flat for house, flat in self.house_flat_pairs if house == house_number])\n",
    "\n",
    "robot = RoboticMailDelivery()\n",
    "robot.add_mail(10, 12)\n",
    "robot.add_mail(10, 14)\n",
    "robot.add_mail(12, 15)\n",
    "robot.add_mail(10, 7)\n",
    "print(robot.flat_numbers_for_house(10))"
   ]
  },
  {
   "cell_type": "markdown",
   "metadata": {},
   "source": [
    "Помимо **конструктора объектов в языках программирования есть обратный ему метод –\n",
    "деструктор.\n",
    "\n",
    "Он вызывается, когда объект не создается, а уничтожается.\n",
    "В языке программирования Python объект уничтожается, когда исчезают все связанные с ним\n",
    "переменные или им присваивается другое значение, в результате чего связь со старым объектом\n",
    "теряется. Удалить переменную можно с помощью команды языка del.\n",
    "В классах Python функцию деструктора выполняет метод __del__().\n",
    "Напишите программу по следующему описанию:\n",
    "1. Есть класс Person, конструктор которого принимает три параметра (не учитывая self) –\n",
    "имя, фамилию и квалификацию специалиста. Квалификация имеет значение заданное по\n",
    "умолчанию, равное единице.\n",
    "2. У класса Person есть метод, который возвращает строку, включающую в себя всю\n",
    "информацию о сотруднике.\n",
    "3. Класс Person содержит деструктор, который выводит на экран фразу \"До свидания,\n",
    "мистер …\" (вместо троеточия должны выводиться имя и фамилия объекта).\n",
    "4. В основной ветке программы создайте три объекта класса Person. Посмотрите\n",
    "информацию о сотрудниках и увольте самое слабое звено.\n",
    "\n",
    "В Python деструктор используется редко, так как интерпретатор и без него хорошо убирает\n",
    "\"мусор\".\n"
   ]
  },
  {
   "cell_type": "code",
   "execution_count": 4,
   "metadata": {},
   "outputs": [
    {
     "name": "stdout",
     "output_type": "stream",
     "text": [
      "И Котов, 3\n",
      "O Рисов, 2\n",
      "Д Мышев, 1\n",
      "Конец программы\n",
      "До свидания, мистер Д Мышев\n",
      "И Котов, 3\n",
      "O Рисов, 2\n"
     ]
    }
   ],
   "source": [
    "class Person:\n",
    "    def __init__(self, n, s, q=1):\n",
    "        self.name = n\n",
    "        self.surname = s\n",
    "        self.skill = q\n",
    "    def __del__(self):\n",
    "        print(\"До свидания, мистер\", self.name, self.surname)\n",
    "    def info(self):\n",
    "        return \"{} {}, {}\".format(self.name, self.surname, self.skill)\n",
    "staff = [Person(\"И\", \"Котов\", 3),\n",
    "Person(\"Д\", \"Мышев\", 1),\n",
    "Person(\"O\", \"Рисов\", 2)]\n",
    "for person in staff:\n",
    "    print(person.info())\n",
    "    staff.sort(key=lambda p: p.skill, reverse=True)\n",
    "del staff[-1]\n",
    "print(\"Конец программы\")\n",
    "for person in staff:\n",
    "    print(person.info())\n",
    "    staff.sort(key=lambda p: p.skill, reverse=True)"
   ]
  },
  {
   "cell_type": "markdown",
   "metadata": {},
   "source": [
    "## Полиморфизм"
   ]
  },
  {
   "cell_type": "code",
   "execution_count": null,
   "metadata": {},
   "outputs": [],
   "source": [
    "Свойство кода работать с разными типами данных называют **полиморфизмом.\n",
    "Полиморфизм дает возможность реализовывать так называемые единые интерфейсы для\n",
    "объектов различных классов.\n",
    "Мы уже неоднократно пользовались этим свойством многих функций и операторов, не задумываясь о нем. Например, оператор + является полиморфным:\n",
    "\n",
    "print(1 + 2)          # 3\n",
    "print(1.5 + 0.2)      # 1.7\n",
    "print(\"abc\" + \"def\")  # abcdef\n",
    "Внутренняя реализация оператора + существенно отличается для целых чисел, чисел с плавающей точкой и строк. То есть на самом деле это три разные операции — интерпретатор Python выбирает одну из них при выполнении в зависимости от операндов."
   ]
  },
  {
   "cell_type": "markdown",
   "metadata": {},
   "source": [
    "Посмотрим на реализацию классов «Круг» и «Квадрат» для подсчета площади и периметра:"
   ]
  },
  {
   "cell_type": "code",
   "execution_count": 22,
   "metadata": {},
   "outputs": [],
   "source": [
    "from math import pi\n",
    "\n",
    " \n",
    "class Circle:\n",
    "    def __init__(self, radius):\n",
    "        self.radius = radius\n",
    " \n",
    "    def area(self):\n",
    "        return pi * self.radius ** 2\n",
    " \n",
    "    def perimeter(self):\n",
    "        return 2 * pi * self.radius\n",
    " \n",
    "\n",
    "class Square:\n",
    "    def __init__(self, side):\n",
    "        self.side = side\n",
    " \n",
    "    def area(self):\n",
    "        return self.side * self.side\n",
    " \n",
    "    def perimeter(self):\n",
    "        return 4 * self.side\n"
   ]
  },
  {
   "cell_type": "markdown",
   "metadata": {},
   "source": [
    "Мы определили классы Circle и Square, экземпляры которых могут считать площадь и периметр окружностей и квадратов. Важно, что у обоих классов одинаковый интерфейс: методы для расчета площади называются area, а для расчета периметра — perimeter. Кроме того, у этих методов одинаковое количество параметров (в данном случае только self), и они оба возвращают в результате работы число, хотя оно и может быть разного типа (целое и вещественное).\n",
    "\n",
    "Теперь мы можем определить полиморфную функцию print_shape_info, которая будет печатать данные о фигуре:"
   ]
  },
  {
   "cell_type": "code",
   "execution_count": 23,
   "metadata": {},
   "outputs": [
    {
     "name": "stdout",
     "output_type": "stream",
     "text": [
      "Area = 100, perimeter = 40.\n",
      "Area = 314.1592653589793, perimeter = 62.83185307179586.\n"
     ]
    }
   ],
   "source": [
    "def print_shape_info(shape):\n",
    "    print(f\"Area = {shape.area()}, perimeter = {shape.perimeter()}.\")\n",
    "\n",
    "\n",
    "square = Square(10)\n",
    "print_shape_info(square)\n",
    "# Area = 100, perimeter = 40.\n",
    "\n",
    "circle = Circle(10)\n",
    "print_shape_info(circle)\n",
    "# Area = 314.1592653589793, perimeter = 62.83185307179586."
   ]
  },
  {
   "cell_type": "markdown",
   "metadata": {},
   "source": [
    "Если аргумент функции print_shape_info — экземпляр класса Square, выполняются методы, определенные в этом классе, если экземпляр Circle — методы Circle.\n",
    "**Утиная типизация:\n",
    "\n",
    "Если нечто выглядит как утка, плавает как утка и крякает как утка, то это, вероятно, утка и есть.*"
   ]
  },
  {
   "cell_type": "markdown",
   "metadata": {},
   "source": [
    "## Проектирование классов"
   ]
  },
  {
   "cell_type": "markdown",
   "metadata": {},
   "source": [
    "В ООП очень важно предварительное проектирование. В общей сложности можно выделить следующие этапы разработки объектно-ориентированной программы:\n",
    "\n",
    "1. Формулирование задачи.\n",
    "\n",
    "2. Определение объектов, участвующих в ее решении.\n",
    "\n",
    "Проектирование классов, на основе которых будут создаваться объекты. В случае необходимости установление между классами наследственных связей.\n",
    "\n",
    "1. Определение ключевых для данной задачи свойств и методов объектов.\n",
    "\n",
    "2. Создание классов, определение их полей и методов.\n",
    "\n",
    "3. Создание объектов.\n",
    "\n",
    "4. Решение задачи путем организации взаимодействия объектов."
   ]
  },
  {
   "cell_type": "markdown",
   "metadata": {},
   "source": [
    "## \"Магические\" методы. Красивая печать\n",
    "https://habr.com/ru/post/186608/"
   ]
  },
  {
   "cell_type": "markdown",
   "metadata": {},
   "source": [
    "**Специальные методы\n",
    "\n",
    "Специальные методы имеют для интерпретатора особое значение. Имена специальных методов и их смысл определены создателями языка: создавать новые нельзя, можно только реализовывать существующие. Названия всех специальных методов начинаются и заканчиваются на два подчеркивания."
   ]
  },
  {
   "cell_type": "code",
   "execution_count": 37,
   "metadata": {},
   "outputs": [
    {
     "name": "stdout",
     "output_type": "stream",
     "text": [
      "Я - окружность с площадью 314.1592653589793 и периметром 62.83185307179586\n"
     ]
    }
   ],
   "source": [
    "from math import pi\n",
    " \n",
    "class Circle:\n",
    "    def __init__(self, radius):\n",
    "        self.radius = radius\n",
    "    \n",
    "    def __str__(self):\n",
    "        return 'Я - окружность с площадью {} и периметром {}'.format(self.area(), self.perimeter())\n",
    "    \n",
    "    def area(self):\n",
    "        return pi * self.radius ** 2\n",
    " \n",
    "    def perimeter(self):\n",
    "        return 2 * pi * self.radius\n",
    " \n",
    "circle = Circle(10)  \n",
    "print(circle)"
   ]
  },
  {
   "cell_type": "markdown",
   "metadata": {},
   "source": [
    "Пример такого метода — уже знакомый нам __init__. Он предназначен для инициализации экземпляров и автоматически вызывается интерпретатором после создания экземпляра объекта.\n",
    "\n",
    "Остальные специальные методы также вызываются в строго определенных ситуациях. Большинство из них отвечает за реализацию операторов. Так, например, всякий раз, когда интерпретатор встречает запись вида x + y, он заменяет ее на x.__add__(y), и для реализации сложения нам достаточно определить в классе экземпляра x метод __add__"
   ]
  },
  {
   "cell_type": "markdown",
   "metadata": {},
   "source": [
    "## Определение операторов"
   ]
  },
  {
   "cell_type": "markdown",
   "metadata": {},
   "source": [
    "Метод __str__\n",
    "\n",
    "Перед выводом аргументов на печать функция print преобразует их в строки с помощью функции str. Но функция str делает это не сама, а вызывает метод __str__ своего аргумента. Так что вызов str(x) эквивалентен x.__str__()."
   ]
  },
  {
   "cell_type": "code",
   "execution_count": 43,
   "metadata": {},
   "outputs": [
    {
     "name": "stdout",
     "output_type": "stream",
     "text": [
      "5:50\n",
      "3:20\n",
      "9:10\n"
     ]
    }
   ],
   "source": [
    "class Time:\n",
    "    def __init__(self, minutes, seconds):\n",
    "        self.minutes = minutes\n",
    "        self.seconds = seconds\n",
    " \n",
    "    def __add__(self, other):\n",
    "        s = self.seconds + other.seconds\n",
    "        m = self.minutes + other.minutes + s // 60\n",
    "        s %= 60\n",
    "        return Time(m, s)\n",
    " \n",
    "    def __str__(self):\n",
    "        return '{}:{}'.format(self.minutes, self.seconds)\n",
    " \n",
    "t1 = Time(5, 50)\n",
    "print(t1)    # 5:50\n",
    "t2 = Time(3, 20)\n",
    "print(t2)    # 3:20\n",
    "t3 = t1 + t2\n",
    "print(t3)    # 9:10"
   ]
  },
  {
   "cell_type": "code",
   "execution_count": 44,
   "metadata": {},
   "outputs": [
    {
     "name": "stdout",
     "output_type": "stream",
     "text": [
      "5:50\n",
      "3:20\n",
      "9:10\n",
      "Time(9, 10)\n"
     ]
    }
   ],
   "source": [
    "class Time:\n",
    "    def __init__(self, minutes, seconds):\n",
    "        self.minutes = minutes\n",
    "        self.seconds = seconds\n",
    " \n",
    "    def __add__(self, other):\n",
    "        s = self.seconds + other.seconds\n",
    "        m = self.minutes + other.minutes + s // 60\n",
    "        s %= 60\n",
    "        return Time(m, s)\n",
    " \n",
    "    def __str__(self):\n",
    "        return '{}:{}'.format(self.minutes, self.seconds)\n",
    "    \n",
    "    def __repr__(self):\n",
    "        return 'Time({}, {})'.format(self.minutes, self.seconds)\n",
    " \n",
    "t1 = Time(5, 50)\n",
    "print(t1)    # 5:50\n",
    "t2 = Time(3, 20)\n",
    "print(t2)    # 3:20\n",
    "t3 = t1 + t2\n",
    "print(t3)    # 9:10\n",
    "print(repr(t3))"
   ]
  },
  {
   "cell_type": "markdown",
   "metadata": {},
   "source": [
    "Пример пообъемнее, с векторами:"
   ]
  },
  {
   "cell_type": "code",
   "execution_count": 48,
   "metadata": {},
   "outputs": [
    {
     "name": "stdout",
     "output_type": "stream",
     "text": [
      "MyVector(1, 1)\n",
      "MyVector(-3.0, 7.5)\n",
      "MyVector(4, -10)\n"
     ]
    }
   ],
   "source": [
    "class MyVector:\n",
    "    def __init__(self, x, y):\n",
    "        self.x = x\n",
    "        self.y = y\n",
    " \n",
    "    def __add__(self, other):\n",
    "        return MyVector(self.x + other.x, self.y + other.y)\n",
    " \n",
    "    def __sub__(self, other):\n",
    "        return MyVector(self.x - other.x, self.y - other.y)\n",
    " \n",
    "    def __mul__(self, other):\n",
    "        return MyVector(self.x * other, self.y * other)\n",
    " \n",
    "    def __rmul__(self, other):\n",
    "        return MyVector(self.x * other, self.y * other)\n",
    " \n",
    "    def __str__(self):\n",
    "        return 'MyVector({}, {})'.format(self.x, self.y)\n",
    " \n",
    " \n",
    "v1 = MyVector(-2, 5)\n",
    "v2 = MyVector(3, -4)\n",
    "v_sum = v1 + v2\n",
    "print(v_sum)  # MyVector(1, 1)\n",
    "v_mul = v1 * 1.5\n",
    "print(v_mul)  # MyVector(-3.0, 7.5)\n",
    "v_rmul = -2 * v1\n",
    "print(v_rmul)  # MyVector(4, -10)"
   ]
  },
  {
   "cell_type": "markdown",
   "metadata": {},
   "source": [
    "## Магические методы\n",
    "https://yadi.sk/d/xoYQx3GC8IeRhQ"
   ]
  },
  {
   "cell_type": "markdown",
   "metadata": {},
   "source": [
    "## Теперь понятно, что такое a[i,  j]"
   ]
  },
  {
   "cell_type": "code",
   "execution_count": 3,
   "metadata": {},
   "outputs": [],
   "source": [
    "class MyList():\n",
    "    def __init__(self):\n",
    "        self.values = dict()\n",
    "            \n",
    "    def __str__(self):\n",
    "        return \", \".join(map(str, self.values.values()))\n",
    "    \n",
    "    def __getitem__(self, index):\n",
    "        try:\n",
    "            return self.values[index]\n",
    "        except:\n",
    "            return None\n",
    "\n",
    "    def __setitem__(self, index, value):\n",
    "        self.values[index] = value\n",
    "\n",
    "    def __delitem__(self, index):\n",
    "        del self.values[index]\n",
    "\n",
    "    def __iter__(self):\n",
    "        return iter(self.values)\n",
    "    \n",
    "    def add(self, index, value):\n",
    "        self.values[index] = value"
   ]
  },
  {
   "cell_type": "code",
   "execution_count": 4,
   "metadata": {},
   "outputs": [
    {
     "data": {
      "text/plain": [
       "<__main__.MyList at 0x27cb59f9588>"
      ]
     },
     "execution_count": 4,
     "metadata": {},
     "output_type": "execute_result"
    }
   ],
   "source": [
    "l = MyList()\n",
    "l"
   ]
  },
  {
   "cell_type": "code",
   "execution_count": 5,
   "metadata": {},
   "outputs": [],
   "source": [
    "l.add((0,0), 56)\n",
    "l.add((0,1), \"Vasya\")\n",
    "l.add((1,1), \"Peter\")"
   ]
  },
  {
   "cell_type": "code",
   "execution_count": 6,
   "metadata": {},
   "outputs": [],
   "source": [
    "l[0, 2] = 334"
   ]
  },
  {
   "cell_type": "code",
   "execution_count": 7,
   "metadata": {},
   "outputs": [
    {
     "name": "stdout",
     "output_type": "stream",
     "text": [
      "56, Vasya, Peter, 334\n"
     ]
    }
   ],
   "source": [
    "print(l)"
   ]
  },
  {
   "cell_type": "code",
   "execution_count": 29,
   "metadata": {},
   "outputs": [
    {
     "data": {
      "text/plain": [
       "'Vasya'"
      ]
     },
     "execution_count": 29,
     "metadata": {},
     "output_type": "execute_result"
    }
   ],
   "source": [
    "l[0,1]"
   ]
  },
  {
   "cell_type": "markdown",
   "metadata": {},
   "source": [
    "## Наследование"
   ]
  },
  {
   "cell_type": "markdown",
   "metadata": {},
   "source": [
    "Итак: \n",
    "хорошо продуманный набор методов (иначе говоря, интерфейс) позволяет добиться инкапсуляции (т. е. скрытия информации о внутреннем устройстве объекта) и полиморфизма (т. е. возможности писать код, работающий одинаково с разными классами).\n",
    "\n",
    "**Наследование\n",
    "\n",
    "Наследование — механизм, позволяющий запрограммировать отношение вида «класс B является частным случаем класса A». В этом случае класс A также называется базовым классом, а B — производным классом.\n",
    "\n",
    "Наследование является способом переиспользования кода между классами без необходимости нарушения инкапсуляции. Это достигается за счет того, что производный класс может пользоваться атрибутами и методами базового класса (иными словами, производный класс наследует атрибуты и методы базового класса)."
   ]
  },
  {
   "cell_type": "code",
   "execution_count": 49,
   "metadata": {},
   "outputs": [
    {
     "name": "stdout",
     "output_type": "stream",
     "text": [
      "This is a\n",
      "This is a\n"
     ]
    }
   ],
   "source": [
    "class A:\n",
    "    def __str__(self):\n",
    "        return 'This is a'\n",
    "        \n",
    "class B(A):\n",
    "    pass\n",
    "\n",
    "a = A()\n",
    "b = B()\n",
    "print(a)\n",
    "print(b)"
   ]
  },
  {
   "cell_type": "code",
   "execution_count": 50,
   "metadata": {},
   "outputs": [
    {
     "name": "stdout",
     "output_type": "stream",
     "text": [
      "This is a\n",
      "This is b\n"
     ]
    }
   ],
   "source": [
    "class A:\n",
    "    def __str__(self):\n",
    "        return 'This is a'\n",
    "        \n",
    "class B(A):\n",
    "    def __str__(self):\n",
    "        return 'This is b'\n",
    "\n",
    "a = A()\n",
    "b = B()\n",
    "print(a)\n",
    "print(b)"
   ]
  },
  {
   "cell_type": "markdown",
   "metadata": {},
   "source": [
    "Как выбирается какой метод вызвать?\n",
    "\n",
    "Если класс наследован от другого класса, проверка существования метода (или атрибута) осуществляется так:\n",
    "\n",
    "Сперва метод ищется в исходном (производном) классе\n",
    "Если его там нет, он ищется в базовом классе\n",
    "Предыдущие шаги повторяются до тех пор, пока метод не будет найден или пока процедура не дойдет до класса, который ни от кого не наследуется\n",
    "\n",
    "А это означает, что производному классу доступны не только собственные методы, но и методы базового класса. В этом случае говорят, что производный класс наследует методы базового класса"
   ]
  },
  {
   "cell_type": "code",
   "execution_count": 51,
   "metadata": {
    "scrolled": true
   },
   "outputs": [
    {
     "name": "stdout",
     "output_type": "stream",
     "text": [
      "Класс: Shape\n",
      "Класс: Circle. Area is 3.141592653589793\n",
      "Класс: Rectangle\n"
     ]
    }
   ],
   "source": [
    "from math import pi\n",
    "\n",
    "class Shape:\n",
    "    def __str__(self):\n",
    "        # Атрибут __class__ содержит класс или тип объекта self\n",
    "        # Атрибут __name__ содержит строку, в которой написано название класса или типа\n",
    "        return \"Класс: {}\".format(self.__class__.__name__)\n",
    "\n",
    "\n",
    "class Circle(Shape):\n",
    "    def __init__(self, radius):\n",
    "        self.r = radius\n",
    "\n",
    "    def area(self):\n",
    "        return pi * self.r**2\n",
    "    \n",
    "    def __str__(self):\n",
    "        return super().__str__() +  \". Area is {}\".format(self.area())\n",
    "\n",
    "\n",
    "class Rectangle(Shape):\n",
    "    def __init__(self, a, b):\n",
    "        self.a = a\n",
    "        self.b = b\n",
    "\n",
    "    def area(self):\n",
    "        return self.a * self.b\n",
    "\n",
    " \n",
    "shape = Shape()\n",
    "print(shape)\n",
    "\n",
    "circle = Circle(1)\n",
    "print(circle)\n",
    "\n",
    "rectangle = Rectangle(1, 2)\n",
    "print(rectangle)"
   ]
  },
  {
   "cell_type": "markdown",
   "metadata": {},
   "source": [
    "## Множественное наследование"
   ]
  },
  {
   "cell_type": "markdown",
   "metadata": {},
   "source": [
    "Вернемся к иерархии классов геометрических фигур. \n",
    "\n",
    "       ----> Rectangle ----> Square\n",
    "shape \n",
    "       ----> Circle\n"
   ]
  },
  {
   "cell_type": "code",
   "execution_count": 29,
   "metadata": {},
   "outputs": [],
   "source": [
    "from math import pi\n",
    "\n",
    "class Shape:\n",
    "    def describe(self):\n",
    "        # Атрибут __class__ содержит класс или тип объекта self\n",
    "        # Атрибут __name__ содержит строку, \n",
    "        # в которой написано название класса или типа\n",
    "        print(f\"Класс: {self.__class__.__name__}\")\n",
    "\n",
    "\n",
    "\n",
    "class Circle(Shape):\n",
    "    def __init__(self, radius):\n",
    "        self.r = radius\n",
    "\n",
    "    def area(self):\n",
    "        return pi * self.r ** 2\n",
    "\n",
    "    def perimeter(self):\n",
    "        return 2 * pi * self.r\n",
    "\n",
    "\n",
    "class Rectangle(Shape):\n",
    "    def __init__(self, a, b):\n",
    "        self.a = a\n",
    "        self.b = b\n",
    "\n",
    "    def area(self):\n",
    "        return self.a * self.b\n",
    "\n",
    "    def perimeter(self):\n",
    "        return 2 * (self.a + self.b)"
   ]
  },
  {
   "cell_type": "markdown",
   "metadata": {},
   "source": [
    "Давайте отнаследуем класс Square от класса Rectangle."
   ]
  },
  {
   "cell_type": "code",
   "execution_count": 31,
   "metadata": {},
   "outputs": [
    {
     "name": "stdout",
     "output_type": "stream",
     "text": [
      "25\n",
      "20\n"
     ]
    }
   ],
   "source": [
    "class Square(Rectangle):\n",
    "    pass\n",
    "\n",
    "\n",
    "side = 5\n",
    "sq = Square(side, side)\n",
    "print(sq.area())\n",
    "print(sq.perimeter())"
   ]
  },
  {
   "cell_type": "markdown",
   "metadata": {},
   "source": [
    "Поскольку мы никак не «заполнили» код класса Square, он будет иметь те же самые методы, что были у класса Rectangle. Но это не очень удобно. Мы хотим, чтобы конструктор класса Square принимал на вход один аргумент (длину стороны). Однако конструктор класса Rectangle принимает на вход два аргумента (ширину и высоту). Как быть?\n",
    "\n",
    "Пока что мы сделали эту логику вручную, с помощью переменной side. Но, коль скоро мы программируем в объектно-ориентированном стиле, давайте «спрячем» (инкапсулируем) эту логику внутрь класса. А именно: мы немного модифицируем конструктор класса Square так, чтобы он принимал на вход только одно число, которое будет передаваться в качестве первого и второго аргумента конструктору базового класса.\n"
   ]
  },
  {
   "cell_type": "markdown",
   "metadata": {},
   "source": [
    "### Расширение метода"
   ]
  },
  {
   "cell_type": "markdown",
   "metadata": {},
   "source": [
    "Такая процедура, когда метод производного класса дополняет аналогичный метод базового класса, называется расширением метода, а в коде это выглядит следующим образом:\n",
    "\n",
    "class Square(Rectangle):\n",
    "    def __init__(self, size):\n",
    "        print('Создаем квадрат')\n",
    "        super().__init__(size, size)"
   ]
  },
  {
   "cell_type": "markdown",
   "metadata": {},
   "source": [
    "Функция super() возвращает специальный объект, который делегирует («передает») вызовы методов (в данном случае — метода __init__) от производного класса к базовому. Эту функцию можно вызывать в любом методе класса — в частности, в конструкторе.\n",
    "\n",
    "Фактически фраза super().__init__(size, size) звучит так: «Вызови метод __init__ у моего базового (родительского) класса».\n",
    "\n",
    "Давайте проверим, что произойдет, если мы создадим объект класса Square и вызовем методы area() и perimeter():"
   ]
  },
  {
   "cell_type": "code",
   "execution_count": 31,
   "metadata": {},
   "outputs": [
    {
     "name": "stdout",
     "output_type": "stream",
     "text": [
      "Создаем квадрат\n",
      "4\n",
      "8\n",
      "2\n"
     ]
    }
   ],
   "source": [
    "class Square(Rectangle):\n",
    "    def __init__(self, size):\n",
    "        print('Создаем квадрат')\n",
    "        super().__init__(size, size)\n",
    "        \n",
    "        \n",
    "sq = Square(2)\n",
    "print(sq.area())\n",
    "print(sq.perimeter())\n",
    "print(sq.a)"
   ]
  },
  {
   "cell_type": "markdown",
   "metadata": {},
   "source": [
    "Как видим, методы area() и perimeter() отработали корректно, и нам не пришлось переписывать эти методы заново — они были полностью наследованы от базового класса, а при создании экземпляра класса была выведена строка, которая при создании элементов базового класса не выводится.\n",
    "\n",
    "Кроме того, от базового класса унаследовались поля a и b."
   ]
  },
  {
   "cell_type": "markdown",
   "metadata": {},
   "source": [
    "## Переопределение методов"
   ]
  },
  {
   "cell_type": "markdown",
   "metadata": {},
   "source": [
    "Давайте «починим» метод describe() для класса Shape. Будем считать, что у «абстрактной» фигуры площадь и периметр не определены (т. е. равны None)"
   ]
  },
  {
   "cell_type": "code",
   "execution_count": 37,
   "metadata": {},
   "outputs": [],
   "source": [
    "class Shape:\n",
    "    def describe(self):\n",
    "        print(f\"Класс: {self.__class__.__name__}\\n\"\n",
    "              f\"Периметр: {self.perimeter()}\\n\"\n",
    "              f\"Площадь: {self.area()}\")\n",
    "\n",
    "    def area(self):\n",
    "        return None\n",
    "\n",
    "    def perimeter(self):\n",
    "        return None\n",
    "\n",
    "\n",
    "class Circle(Shape):\n",
    "    def __init__(self, radius):\n",
    "        self.r = radius\n",
    "\n",
    "    def area(self):\n",
    "        return pi * self.r ** 2\n",
    "\n",
    "    def perimeter(self):\n",
    "        return 2 * pi * self.r\n",
    "\n",
    "\n",
    "class Rectangle(Shape):\n",
    "    def __init__(self, a, b):\n",
    "        self.a = a\n",
    "        self.b = b\n",
    "\n",
    "    def area(self):\n",
    "        return self.a * self.b\n",
    "\n",
    "    def perimeter(self):\n",
    "        return 2 * (self.a + self.b)\n",
    "    \n",
    "    def describe(self):\n",
    "        print(f\"Класс: {self.__class__.__name__}\")\n",
    "\n",
    "class Square(Rectangle, Shape):\n",
    "    def __init__(self, size):\n",
    "        #print('Создаем квадрат')\n",
    "        super().__init__(size, size)\n"
   ]
  },
  {
   "cell_type": "markdown",
   "metadata": {},
   "source": [
    "А как теперь будет работать метод describe() для производных классов? У какого класса он будет вызывать методы area() и perimeter() — у производного или у базового?\n",
    "\n",
    "Давайте вспомним, что по сути представляет собой наследование классов в Python: если мы вызовем метод у производного класса, сперва ищется метод этого класса, а если его там нет, такой же поиск выполняется в его базовом классе. Значит, поведение производных классов измениться не должно.\n",
    "\n",
    "Давайте убедимся в этом:"
   ]
  },
  {
   "cell_type": "code",
   "execution_count": 38,
   "metadata": {},
   "outputs": [
    {
     "name": "stdout",
     "output_type": "stream",
     "text": [
      "Класс: Shape\n",
      "Периметр: None\n",
      "Площадь: None\n",
      "Класс: Circle\n",
      "Периметр: 31.41592653589793\n",
      "Площадь: 78.53981633974483\n",
      "Класс: Rectangle\n",
      "Класс: Square\n"
     ]
    }
   ],
   "source": [
    "shape = Shape()\n",
    "circle = Circle(5)\n",
    "rectangle = Rectangle(3, 4)\n",
    "square = Square(5)\n",
    "\n",
    "shape.describe()\n",
    "circle.describe()\n",
    "rectangle.describe()\n",
    "square.describe()"
   ]
  },
  {
   "cell_type": "markdown",
   "metadata": {},
   "source": [
    "Это называется переопределением методов. В отличие от расширения методов, в данном случае метод area() базового класса не используется при реализации метода area() производного класса; то же самое относится и к методу perimeter()."
   ]
  },
  {
   "cell_type": "markdown",
   "metadata": {},
   "source": [
    "## Множественное наследование\n",
    "\n",
    "Python предоставляет возможность наследоваться сразу от нескольких классов. Такой механизм называется множественное наследование, и он позволяет вызывать в производном классе методы разных базовых классов."
   ]
  },
  {
   "cell_type": "code",
   "execution_count": 35,
   "metadata": {},
   "outputs": [
    {
     "name": "stdout",
     "output_type": "stream",
     "text": [
      "tic\n",
      "tac\n"
     ]
    }
   ],
   "source": [
    "class Base1:\n",
    "    def tic(self):\n",
    "        print(\"tic\")\n",
    "\n",
    "\n",
    "class Base2:\n",
    "    def tac(self):\n",
    "        print(\"tac\")\n",
    "\n",
    "\n",
    "class Derived(Base1, Base2):\n",
    "    pass\n",
    "\n",
    "\n",
    "d = Derived()\n",
    "d.tic()  # метод, наследованный от Base1\n",
    "d.tac()  # метод, наследованный от Base2"
   ]
  },
  {
   "cell_type": "markdown",
   "metadata": {},
   "source": [
    "## Несколько инициализаторов\n",
    "нельзя"
   ]
  },
  {
   "cell_type": "code",
   "execution_count": 17,
   "metadata": {},
   "outputs": [
    {
     "ename": "TypeError",
     "evalue": "'int' object is not iterable",
     "output_type": "error",
     "traceback": [
      "\u001b[1;31m---------------------------------------------------------------------------\u001b[0m",
      "\u001b[1;31mTypeError\u001b[0m                                 Traceback (most recent call last)",
      "\u001b[1;32m<ipython-input-17-65cf43072d6f>\u001b[0m in \u001b[0;36m<module>\u001b[1;34m\u001b[0m\n\u001b[0;32m     10\u001b[0m         \u001b[0mprint\u001b[0m\u001b[1;33m(\u001b[0m\u001b[1;33m*\u001b[0m\u001b[0mself\u001b[0m\u001b[1;33m.\u001b[0m\u001b[0mvalues\u001b[0m\u001b[1;33m)\u001b[0m\u001b[1;33m\u001b[0m\u001b[1;33m\u001b[0m\u001b[0m\n\u001b[0;32m     11\u001b[0m \u001b[1;33m\u001b[0m\u001b[0m\n\u001b[1;32m---> 12\u001b[1;33m \u001b[0mM\u001b[0m \u001b[1;33m=\u001b[0m \u001b[0mMultiInit\u001b[0m\u001b[1;33m(\u001b[0m\u001b[1;36m5\u001b[0m\u001b[1;33m)\u001b[0m\u001b[1;33m\u001b[0m\u001b[1;33m\u001b[0m\u001b[0m\n\u001b[0m\u001b[0;32m     13\u001b[0m \u001b[0mprint\u001b[0m\u001b[1;33m(\u001b[0m\u001b[0mM\u001b[0m\u001b[1;33m)\u001b[0m\u001b[1;33m\u001b[0m\u001b[1;33m\u001b[0m\u001b[0m\n",
      "\u001b[1;32m<ipython-input-17-65cf43072d6f>\u001b[0m in \u001b[0;36m__init__\u001b[1;34m(self, numbers)\u001b[0m\n\u001b[0;32m      5\u001b[0m     \u001b[1;32mdef\u001b[0m \u001b[0m__init__\u001b[0m\u001b[1;33m(\u001b[0m\u001b[0mself\u001b[0m\u001b[1;33m,\u001b[0m \u001b[0mnumbers\u001b[0m\u001b[1;33m)\u001b[0m\u001b[1;33m:\u001b[0m\u001b[1;33m\u001b[0m\u001b[1;33m\u001b[0m\u001b[0m\n\u001b[0;32m      6\u001b[0m         \u001b[0mself\u001b[0m\u001b[1;33m.\u001b[0m\u001b[0mvalues\u001b[0m \u001b[1;33m=\u001b[0m \u001b[1;33m[\u001b[0m\u001b[1;33m]\u001b[0m\u001b[1;33m\u001b[0m\u001b[1;33m\u001b[0m\u001b[0m\n\u001b[1;32m----> 7\u001b[1;33m         \u001b[0mself\u001b[0m\u001b[1;33m.\u001b[0m\u001b[0mvalues\u001b[0m\u001b[1;33m.\u001b[0m\u001b[0mextend\u001b[0m\u001b[1;33m(\u001b[0m\u001b[0mnumbers\u001b[0m\u001b[1;33m)\u001b[0m\u001b[1;33m\u001b[0m\u001b[1;33m\u001b[0m\u001b[0m\n\u001b[0m\u001b[0;32m      8\u001b[0m \u001b[1;33m\u001b[0m\u001b[0m\n\u001b[0;32m      9\u001b[0m     \u001b[1;32mdef\u001b[0m \u001b[0m__str__\u001b[0m\u001b[1;33m(\u001b[0m\u001b[0mself\u001b[0m\u001b[1;33m)\u001b[0m\u001b[1;33m:\u001b[0m\u001b[1;33m\u001b[0m\u001b[1;33m\u001b[0m\u001b[0m\n",
      "\u001b[1;31mTypeError\u001b[0m: 'int' object is not iterable"
     ]
    }
   ],
   "source": [
    "class MultiInit():\n",
    "    def __init__(self, number):\n",
    "        self.values = [number]\n",
    "        \n",
    "    def __init__(self, numbers):\n",
    "        self.values = []\n",
    "        self.values.extend(numbers)\n",
    "    \n",
    "    def __str__(self):\n",
    "        print(*self.values)\n",
    "        \n",
    "M = MultiInit(5)\n",
    "print(M)"
   ]
  },
  {
   "cell_type": "code",
   "execution_count": 36,
   "metadata": {},
   "outputs": [
    {
     "name": "stdout",
     "output_type": "stream",
     "text": [
      "1 2 3\n"
     ]
    }
   ],
   "source": [
    "class MultiInit():\n",
    "    def __init__(self, number):\n",
    "        if type(number) == int:\n",
    "            self.values = [number]\n",
    "        elif type(number) == list:\n",
    "            self.values = []\n",
    "            self.values.extend(number)\n",
    "    \n",
    "    def __str__(self):\n",
    "        return \" \".join(map(str, self.values))\n",
    "        \n",
    "M = MultiInit([1,2,3])\n",
    "print(M)"
   ]
  },
  {
   "cell_type": "markdown",
   "metadata": {},
   "source": [
    "## Python cheet sheet\n",
    "https://yadi.sk/d/xoYQx3GC8IeRhQ"
   ]
  },
  {
   "cell_type": "markdown",
   "metadata": {},
   "source": [
    "## Абстрактные методы"
   ]
  },
  {
   "cell_type": "markdown",
   "metadata": {},
   "source": [
    "Абстрактные методы содержат только определение метода без реализации. Предполагается, что класс-потомок должен переопределить метод и реализовать его функциональность. Чтобы такое предположение сделать более очевидным, часто внутри абстрактного метода возбуждают исключение."
   ]
  },
  {
   "cell_type": "code",
   "execution_count": 10,
   "metadata": {},
   "outputs": [
    {
     "name": "stdout",
     "output_type": "stream",
     "text": [
      "50\n",
      "Метод test() не переопределен\n"
     ]
    }
   ],
   "source": [
    "class Class1(object):\n",
    "    def test(self, x):     # Абстрактный метод\n",
    "        # Возбуждаем исключение с помощью raise\n",
    "        raise NotImplementedError(\"Необходимо переопределить метод\")\n",
    "class Class2(Class1):      # Наследуем абстрактный метод\n",
    "    def test(self, x):     # Переопределяем метод\n",
    "        print(x)\n",
    "class Class3(Class1):      # Класс не переопределяет метод\n",
    "    pass\n",
    "c2 = Class2()\n",
    "c2.test(50)              # Выведет: 50\n",
    "c3 = Class3()\n",
    "try:                       # Перехватываем исключения\n",
    "    c3.test(50)            # Ошибка. Метод test() не переопределен\n",
    "except NotImplementedError:\n",
    "    print (\"Метод test() не переопределен\" )             # Выведет: Необходимо переопределить метод"
   ]
  },
  {
   "cell_type": "markdown",
   "metadata": {},
   "source": [
    "Абстрактным называется класс, который содержит один и более абстрактных методов. Абстрактным называется объявленный, но не реализованный метод. Абстрактные классы не могут быть инстанциированы, от них нужно унаследовать, реализовать все их абстрактные методы и только тогда можно создать экземпляр такого класса. В Python отсутствует встроенная поддержка абстрактных классов, для этой цели используется модуль abc (Abstract Base Class)\n",
    "\n",
    "В модуле ABC определен декоратор @abstractmethod, который позволяет указать, что метод, перед которым расположен декоратор, является абстрактным. При попытке создать экземпляр класса-потомка, в котором не переопределен абстрактный метод, возбуждается исключение TypeErrror. Рассмотрим использование декоратора @abstractmethod на примере.\n",
    "\n",
    "### Использование декоратора @abstractmethod"
   ]
  },
  {
   "cell_type": "code",
   "execution_count": 21,
   "metadata": {},
   "outputs": [
    {
     "name": "stdout",
     "output_type": "stream",
     "text": [
      "50\n",
      "Метод test() не переопределен\n"
     ]
    }
   ],
   "source": [
    "from abc import ABC, abstractmethod\n",
    "class Class1(ABC):\n",
    "    @abstractmethod\n",
    "    def test(self, x):     # Абстрактный метод\n",
    "        pass\n",
    "class Class2(Class1):      # Наследуем абстрактный метод\n",
    "    def test(self, x):     # Переопределяем метод\n",
    "        print (x)\n",
    "class Class3(Class1):      # Класс не переопределяет метод\n",
    "    pass\n",
    "c2 = Class2()\n",
    "c2.test(50)                # Выведет: 50\n",
    "try:\n",
    "    c3 = Class3()          # Ошибка. Метод test() не переопределен\n",
    "    c3.test(50)\n",
    "except TypeError:\n",
    "    print ('Метод test() не переопределен')            # Can't instantiate abstract class Class3\n",
    "                           # with abstract methods test"
   ]
  },
  {
   "cell_type": "markdown",
   "metadata": {},
   "source": [
    "### Использование декоратора @staticmethod"
   ]
  },
  {
   "cell_type": "code",
   "execution_count": 23,
   "metadata": {},
   "outputs": [
    {
     "name": "stdout",
     "output_type": "stream",
     "text": [
      "7.85\n",
      "18.85\n"
     ]
    }
   ],
   "source": [
    "from math import pi\n",
    "class Cylinder:\n",
    "    @staticmethod\n",
    "    def make_area(d, h):\n",
    "        circle = pi * d ** 2 / 4\n",
    "        side = pi * d * h\n",
    "        return round(circle*2 + side, 2)\n",
    "    def __init__(self, diameter, high):\n",
    "        self.dia = diameter\n",
    "        self.h = high\n",
    "        self.area = self.make_area(diameter, high)\n",
    "a = Cylinder(1, 2)\n",
    "print(a.area)\n",
    "print(a.make_area(2, 2))"
   ]
  },
  {
   "cell_type": "code",
   "execution_count": null,
   "metadata": {},
   "outputs": [],
   "source": []
  }
 ],
 "metadata": {
  "kernelspec": {
   "display_name": "Python 3 (ipykernel)",
   "language": "python",
   "name": "python3"
  },
  "language_info": {
   "codemirror_mode": {
    "name": "ipython",
    "version": 3
   },
   "file_extension": ".py",
   "mimetype": "text/x-python",
   "name": "python",
   "nbconvert_exporter": "python",
   "pygments_lexer": "ipython3",
   "version": "3.9.10"
  },
  "varInspector": {
   "cols": {
    "lenName": 16,
    "lenType": 16,
    "lenVar": 40
   },
   "kernels_config": {
    "python": {
     "delete_cmd_postfix": "",
     "delete_cmd_prefix": "del ",
     "library": "var_list.py",
     "varRefreshCmd": "print(var_dic_list())"
    },
    "r": {
     "delete_cmd_postfix": ") ",
     "delete_cmd_prefix": "rm(",
     "library": "var_list.r",
     "varRefreshCmd": "cat(var_dic_list()) "
    }
   },
   "types_to_exclude": [
    "module",
    "function",
    "builtin_function_or_method",
    "instance",
    "_Feature"
   ],
   "window_display": false
  }
 },
 "nbformat": 4,
 "nbformat_minor": 2
}
