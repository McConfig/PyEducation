{
 "cells": [
  {
   "cell_type": "markdown",
   "metadata": {
    "slideshow": {
     "slide_type": "slide"
    }
   },
   "source": [
    "## План \n",
    "\n",
    "1. Введение (немного про Jupyter notebook)\n",
    "2. Множества\n",
    "3. Строки\n",
    "4. Списки \n",
    "5. Кортежи\n",
    "6. Словари\n",
    "\n",
    "---"
   ]
  },
  {
   "cell_type": "markdown",
   "metadata": {
    "slideshow": {
     "slide_type": "slide"
    }
   },
   "source": [
    "## Введение\n",
    "\n",
    "Общее назначение коллекций - хранение заранее неопределенного количества информации под одним именем переменной."
   ]
  },
  {
   "cell_type": "markdown",
   "metadata": {
    "slideshow": {
     "slide_type": "slide"
    }
   },
   "source": [
    "Jupyter Notebook – это крайне удобный инструмент для создания красивых аналитических отчетов, так как он позволяет хранить вместе код, изображения, комментарии, формулы и графики. Кроме того этот формат позволяет запускать код непосредственно в браузере."
   ]
  },
  {
   "cell_type": "markdown",
   "metadata": {
    "slideshow": {
     "slide_type": "slide"
    }
   },
   "source": [
    "Для установки Jupyter Notebook необходимо установить его командой:"
   ]
  },
  {
   "cell_type": "markdown",
   "metadata": {
    "slideshow": {
     "slide_type": "slide"
    }
   },
   "source": [
    "**python3 -m pip install --upgrade pip\n",
    "python3 -m pip install jupyter**"
   ]
  },
  {
   "cell_type": "markdown",
   "metadata": {
    "slideshow": {
     "slide_type": "slide"
    }
   },
   "source": [
    "Если вы используете Anaconda,  то Jupyter Notebook входит в состав этой платформы"
   ]
  },
  {
   "cell_type": "markdown",
   "metadata": {
    "slideshow": {
     "slide_type": "slide"
    }
   },
   "source": [
    "После установки Jupiter Notebook можно запустить командой:"
   ]
  },
  {
   "cell_type": "markdown",
   "metadata": {
    "slideshow": {
     "slide_type": "slide"
    }
   },
   "source": [
    "**jupyter notebook**"
   ]
  },
  {
   "cell_type": "markdown",
   "metadata": {
    "slideshow": {
     "slide_type": "slide"
    }
   },
   "source": [
    " Мы начинаем с множеств, затем рассмотрим строки, списки и кортежи, и, в заключении словари."
   ]
  },
  {
   "cell_type": "markdown",
   "metadata": {
    "slideshow": {
     "slide_type": "slide"
    }
   },
   "source": [
    "**Дополнительное замечание**: примеры, которые использованы здесь, нужны только для иллюстрации материала, так как зачастую есть более эффективные алгоритмы выполнения приведенных действий."
   ]
  },
  {
   "cell_type": "markdown",
   "metadata": {
    "slideshow": {
     "slide_type": "slide"
    }
   },
   "source": [
    "## Множества\n",
    "Множество — это составной изменяемый тип данных, который позволяет нам хранить разнородные уникальные значения."
   ]
  },
  {
   "cell_type": "markdown",
   "metadata": {
    "slideshow": {
     "slide_type": "slide"
    }
   },
   "source": [
    "Для создания множества необходимо использовать ключевое слово **set**"
   ]
  },
  {
   "cell_type": "code",
   "execution_count": 1,
   "metadata": {
    "pycharm": {
     "is_executing": false
    },
    "slideshow": {
     "slide_type": "slide"
    }
   },
   "outputs": [
    {
     "name": "stdout",
     "output_type": "stream",
     "text": [
      "set()\n"
     ]
    }
   ],
   "source": [
    "a = set()\n",
    "print(a)"
   ]
  },
  {
   "cell_type": "markdown",
   "metadata": {
    "slideshow": {
     "slide_type": "slide"
    }
   },
   "source": [
    "Кроме того, можно также создавать множества, уже заполненные данными:"
   ]
  },
  {
   "cell_type": "code",
   "execution_count": 2,
   "metadata": {
    "pycharm": {
     "is_executing": false
    },
    "slideshow": {
     "slide_type": "slide"
    }
   },
   "outputs": [
    {
     "name": "stdout",
     "output_type": "stream",
     "text": [
      "{(0, 1), 1, 1.3, 10, 10000, 'yandex'}\n"
     ]
    }
   ],
   "source": [
    "x = 10\n",
    "a = {1, 1.3, 'yandex', x, (0, 1), 10000}\n",
    "print(a)"
   ]
  },
  {
   "cell_type": "markdown",
   "metadata": {
    "slideshow": {
     "slide_type": "slide"
    }
   },
   "source": [
    "**Обратите внимание, что создавать пустое множество с помощью фигурных скобок нельзя, этот формат записи \"забронирован\" за словарем, так как они появились в языке раньше**"
   ]
  },
  {
   "cell_type": "code",
   "execution_count": 3,
   "metadata": {
    "pycharm": {
     "is_executing": false
    },
    "slideshow": {
     "slide_type": "slide"
    }
   },
   "outputs": [
    {
     "name": "stdout",
     "output_type": "stream",
     "text": [
      "(0, 1)\n",
      "1\n",
      "1.3\n",
      "10\n",
      "yandex\n",
      "hello\n"
     ]
    }
   ],
   "source": [
    "# множества можно обойти циклом for, но мы не знаем,\n",
    "# в каком порядке будут перебраны элементы\n",
    "for item in {1, 1.3, 'yandex', 10, (0, 1), 'hello'}:\n",
    "    print(item)"
   ]
  },
  {
   "cell_type": "markdown",
   "metadata": {
    "slideshow": {
     "slide_type": "slide"
    }
   },
   "source": [
    "### Преимущества множеств\n",
    "Быстрый поиск данных -  с помощью множеств мы можем быстро проверить наличие какого-либо элемента в коллекции (значительно быстрее, чем при использовании, например, списков):"
   ]
  },
  {
   "cell_type": "code",
   "execution_count": 4,
   "metadata": {
    "pycharm": {
     "is_executing": false
    },
    "slideshow": {
     "slide_type": "slide"
    }
   },
   "outputs": [
    {
     "name": "stdout",
     "output_type": "stream",
     "text": [
      "Да\n"
     ]
    }
   ],
   "source": [
    "a = {1, 1.3, 'yandex', (0, 1)}\n",
    "if 1 in a:\n",
    "    print(\"Да\")"
   ]
  },
  {
   "cell_type": "code",
   "execution_count": 5,
   "metadata": {
    "pycharm": {
     "is_executing": false
    },
    "slideshow": {
     "slide_type": "slide"
    }
   },
   "outputs": [
    {
     "name": "stdout",
     "output_type": "stream",
     "text": [
      "{1, 2, 3}\n"
     ]
    }
   ],
   "source": [
    "a = {1, 2, 3}\n",
    "a.add(3)\n",
    "print(a)"
   ]
  },
  {
   "cell_type": "markdown",
   "metadata": {
    "slideshow": {
     "slide_type": "slide"
    }
   },
   "source": [
    "Кроме того для множеств есть готовая математика для объединения, пересечения, разности и симметричной разности."
   ]
  },
  {
   "cell_type": "code",
   "execution_count": 6,
   "metadata": {
    "pycharm": {
     "is_executing": false
    },
    "slideshow": {
     "slide_type": "slide"
    }
   },
   "outputs": [
    {
     "name": "stdout",
     "output_type": "stream",
     "text": [
      "{1, 2, 3, 4, 5, 6}\n",
      "{3, 4}\n",
      "{1, 2}\n",
      "{1, 2, 5, 6}\n"
     ]
    }
   ],
   "source": [
    "a = {1, 2, 3, 4}\n",
    "b = {3, 4, 5, 6}\n",
    "# объединение\n",
    "print(a | b)\n",
    "# или\n",
    "c = a.union(b)\n",
    "# пересечение\n",
    "print(a & b)\n",
    "# или\n",
    "c = a.intersection(b)\n",
    "# разность\n",
    "print(a - b)\n",
    "# или\n",
    "c = a.difference(b)\n",
    "# симметричная разность\n",
    "print(a ^ b)\n",
    "# или\n",
    "c = a.symmetric_difference(b)"
   ]
  },
  {
   "cell_type": "markdown",
   "metadata": {
    "slideshow": {
     "slide_type": "slide"
    }
   },
   "source": [
    "\"Сравнение\" множеств:"
   ]
  },
  {
   "cell_type": "code",
   "execution_count": 1,
   "metadata": {
    "pycharm": {
     "is_executing": false
    },
    "slideshow": {
     "slide_type": "slide"
    }
   },
   "outputs": [
    {
     "name": "stdout",
     "output_type": "stream",
     "text": [
      "True\n",
      "False\n",
      "True\n",
      "False\n"
     ]
    }
   ],
   "source": [
    "s1 = {'a', 'b', 'c'}\n",
    "print(s1 <= s1)  # True\n",
    "\n",
    "s2 = {'a', 'b', 'd'}\n",
    "print(s2 <= s1)  # False\n",
    "s3 = {'a'}\n",
    "print(s3 <= s1)  # True\n",
    "s4 = {'a', 'z'}\n",
    "print(s4 <= s1)"
   ]
  },
  {
   "cell_type": "markdown",
   "metadata": {
    "slideshow": {
     "slide_type": "slide"
    }
   },
   "source": [
    "**Пример применения:**\n",
    "1. Убрать повторы из списка"
   ]
  },
  {
   "cell_type": "code",
   "execution_count": 14,
   "metadata": {
    "pycharm": {
     "is_executing": false
    },
    "slideshow": {
     "slide_type": "slide"
    }
   },
   "outputs": [
    {
     "name": "stdout",
     "output_type": "stream",
     "text": [
      "[1, 2, 3, 4, 'hello']\n"
     ]
    }
   ],
   "source": [
    "li = [1, 2, 3, \"hello\", 3, 4]\n",
    "print(list(set(li)))"
   ]
  },
  {
   "cell_type": "markdown",
   "metadata": {
    "slideshow": {
     "slide_type": "slide"
    }
   },
   "source": [
    "2. Узнать, есть ли в списке повторы"
   ]
  },
  {
   "cell_type": "code",
   "execution_count": 10,
   "metadata": {
    "pycharm": {
     "is_executing": false
    },
    "slideshow": {
     "slide_type": "slide"
    }
   },
   "outputs": [
    {
     "name": "stdout",
     "output_type": "stream",
     "text": [
      "Есть повторы\n"
     ]
    }
   ],
   "source": [
    "li = [1, 2, 3, 3, 3, 4]\n",
    "if len(set(li)) != len(li):\n",
    "    print(\"Есть повторы\")"
   ]
  },
  {
   "cell_type": "markdown",
   "metadata": {
    "slideshow": {
     "slide_type": "slide"
    }
   },
   "source": [
    "### frozenset\n",
    "В питоне есть тип frozenset - неизменяемые множества. Можно использовать как элементы других множеств и как ключ в словаре"
   ]
  },
  {
   "cell_type": "code",
   "execution_count": 3,
   "metadata": {
    "pycharm": {
     "is_executing": false
    },
    "slideshow": {
     "slide_type": "slide"
    }
   },
   "outputs": [
    {
     "name": "stdout",
     "output_type": "stream",
     "text": [
      "{frozenset({1, 2, 3, 4}), frozenset({(0, 1), 1, 1.3, 'yandex'})}\n"
     ]
    },
    {
     "ename": "AttributeError",
     "evalue": "'frozenset' object has no attribute 'add'",
     "output_type": "error",
     "traceback": [
      "\u001b[1;31m---------------------------------------------------------------------------\u001b[0m",
      "\u001b[1;31mAttributeError\u001b[0m                            Traceback (most recent call last)",
      "\u001b[1;32m<ipython-input-3-849b4d4372f5>\u001b[0m in \u001b[0;36m<module>\u001b[1;34m\u001b[0m\n\u001b[0;32m      5\u001b[0m \u001b[0ms\u001b[0m\u001b[1;33m.\u001b[0m\u001b[0madd\u001b[0m\u001b[1;33m(\u001b[0m\u001b[0mfr_set2\u001b[0m\u001b[1;33m)\u001b[0m\u001b[1;33m\u001b[0m\u001b[1;33m\u001b[0m\u001b[0m\n\u001b[0;32m      6\u001b[0m \u001b[0mprint\u001b[0m\u001b[1;33m(\u001b[0m\u001b[0ms\u001b[0m\u001b[1;33m)\u001b[0m\u001b[1;33m\u001b[0m\u001b[1;33m\u001b[0m\u001b[0m\n\u001b[1;32m----> 7\u001b[1;33m \u001b[0mfr_set2\u001b[0m\u001b[1;33m.\u001b[0m\u001b[0madd\u001b[0m\u001b[1;33m(\u001b[0m\u001b[1;36m5\u001b[0m\u001b[1;33m)\u001b[0m\u001b[1;33m\u001b[0m\u001b[1;33m\u001b[0m\u001b[0m\n\u001b[0m",
      "\u001b[1;31mAttributeError\u001b[0m: 'frozenset' object has no attribute 'add'"
     ]
    }
   ],
   "source": [
    "fr_set = frozenset({1, 1.3, 'yandex', (0, 1)})\n",
    "fr_set2 = frozenset({1, 2, 3, 4})\n",
    "s = set()\n",
    "s.add(fr_set)\n",
    "s.add(fr_set2)\n",
    "print(s)\n",
    "fr_set2.add(5)\n"
   ]
  },
  {
   "cell_type": "markdown",
   "metadata": {
    "slideshow": {
     "slide_type": "slide"
    }
   },
   "source": [
    "## Строки\n",
    "Строки в python -  неизменяемая коллекция, которая (также как списки и кортежи) поддерживает адресацию по индексу и срезы."
   ]
  },
  {
   "cell_type": "code",
   "execution_count": 15,
   "metadata": {
    "slideshow": {
     "slide_type": "slide"
    }
   },
   "outputs": [
    {
     "name": "stdout",
     "output_type": "stream",
     "text": [
      "H l\n",
      "o l\n"
     ]
    }
   ],
   "source": [
    "# Поддерживаются как положительные индексы с нуля\n",
    "text = \"Hello\"\n",
    "print(text[0], text[3])\n",
    "# Так и отрицательные индексы (с конца)\n",
    "print(text[-1], text[-3])"
   ]
  },
  {
   "cell_type": "code",
   "execution_count": 16,
   "metadata": {
    "pycharm": {
     "is_executing": false
    },
    "slideshow": {
     "slide_type": "slide"
    }
   },
   "outputs": [
    {
     "name": "stdout",
     "output_type": "stream",
     "text": [
      "Hlo\n",
      "!xednaY ,olleH\n"
     ]
    }
   ],
   "source": [
    "text = \"Hello, Yandex!\"\n",
    "print(text[:6:2])\n",
    "print(text[::-1])"
   ]
  },
  {
   "cell_type": "code",
   "execution_count": 17,
   "metadata": {
    "pycharm": {
     "is_executing": false
    },
    "scrolled": true,
    "slideshow": {
     "slide_type": "slide"
    }
   },
   "outputs": [
    {
     "name": "stdout",
     "output_type": "stream",
     "text": [
      "False\n",
      "False\n"
     ]
    }
   ],
   "source": [
    "# Так как строки неизменяемые объекты, для них + и += действуют одинаково\n",
    "text1 = \"Hello, \"\n",
    "text2 = \"Yandex!\"\n",
    "text3 = text1\n",
    "text1 = text1 + text2\n",
    "print(text1 is text3)\n",
    "text1 = text3\n",
    "text1 += text2\n",
    "print(text1 is text3)"
   ]
  },
  {
   "cell_type": "markdown",
   "metadata": {
    "slideshow": {
     "slide_type": "slide"
    }
   },
   "source": [
    "Строки можно обходить циклом for с гарантированным порядком обхода:"
   ]
  },
  {
   "cell_type": "code",
   "execution_count": 18,
   "metadata": {
    "pycharm": {
     "is_executing": false
    },
    "slideshow": {
     "slide_type": "slide"
    }
   },
   "outputs": [
    {
     "name": "stdout",
     "output_type": "stream",
     "text": [
      "Y\n",
      "a\n",
      "n\n",
      "d\n",
      "e\n",
      "x\n"
     ]
    }
   ],
   "source": [
    "for letter in \"Yandex\":\n",
    "    print(letter)"
   ]
  },
  {
   "cell_type": "markdown",
   "metadata": {
    "slideshow": {
     "slide_type": "slide"
    }
   },
   "source": [
    "**Обратите внимание:** у строк есть множество методов, но так как строки - неизменяемый объект, все они возвращают значение, а не изменяют сам объект. \n",
    "Методы строк (https://pythonworld.ru/tipy-dannyx-v-python/stroki-funkcii-i-metody-strok.html)\n",
    "Методы списков(https://pythonworld.ru/tipy-dannyx-v-python/spiski-list-funkcii-i-metody-spiskov.html)"
   ]
  },
  {
   "cell_type": "code",
   "execution_count": 21,
   "metadata": {
    "pycharm": {
     "is_executing": false
    },
    "slideshow": {
     "slide_type": "slide"
    }
   },
   "outputs": [
    {
     "name": "stdout",
     "output_type": "stream",
     "text": [
      "Ya.nd.ex..\n",
      "Ya!nd!ex!!\n"
     ]
    }
   ],
   "source": [
    "s = \"Ya.nd.ex..\"\n",
    "# неправильно:\n",
    "s.replace(\".\", \"!\")\n",
    "print(s)\n",
    "# правильно:\n",
    "s = s.replace(\".\", \"!\")\n",
    "print(s)"
   ]
  },
  {
   "cell_type": "code",
   "execution_count": 22,
   "metadata": {
    "pycharm": {
     "is_executing": false
    },
    "slideshow": {
     "slide_type": "slide"
    }
   },
   "outputs": [
    {
     "name": "stdout",
     "output_type": "stream",
     "text": [
      "H\n"
     ]
    }
   ],
   "source": [
    "#отдельные буквы в строке - тоже строка поэтому можно так\n",
    "s = 'Hello'\n",
    "print(s[0][0][0][0][0][0])"
   ]
  },
  {
   "cell_type": "markdown",
   "metadata": {
    "slideshow": {
     "slide_type": "slide"
    }
   },
   "source": [
    "## Списки и кортежи\n",
    "Списки являются очень гибкой структурой данных и широко используются в программах. Основные свойства:\n",
    "* Список хранит несколько элементов под одним именем (как и множество)\n",
    "* Элементы списка могут повторяться (в отличие от множества)\n",
    "* Элементы списка могут быть упорядочены и проиндексированы, доступна операция среза\n",
    "* Элементы списка можно изменять\n",
    "* Элементами списка могут быть значения любого типа: целые и действительные числа, строки и даже другие списки."
   ]
  },
  {
   "cell_type": "code",
   "execution_count": 23,
   "metadata": {
    "pycharm": {
     "is_executing": false
    },
    "slideshow": {
     "slide_type": "slide"
    }
   },
   "outputs": [
    {
     "name": "stdout",
     "output_type": "stream",
     "text": [
      "[1, 2, 3, [10, 11]]\n",
      "[]\n"
     ]
    }
   ],
   "source": [
    "# списки могут содержать другие списки\n",
    "li1 = [1, 2, 3]\n",
    "li2 = list()\n",
    "li = []\n",
    "li2.append(10)\n",
    "li2.append(11)\n",
    "li1.append(li2)\n",
    "print(li1)\n",
    "print(li)"
   ]
  },
  {
   "cell_type": "code",
   "execution_count": 24,
   "metadata": {
    "pycharm": {
     "is_executing": false
    },
    "slideshow": {
     "slide_type": "slide"
    }
   },
   "outputs": [
    {
     "name": "stdout",
     "output_type": "stream",
     "text": [
      "[1, 2, 3, 5, 6]\n",
      "[1, 6, 3, 5, 2]\n",
      "None\n",
      "[1, 2, 3, 5, 6]\n"
     ]
    }
   ],
   "source": [
    "# списки поддерживают сортировку:\n",
    "li = [1, 6, 3, 5, 2]\n",
    "print(sorted(li))\n",
    "print(li)\n",
    "print(li.sort())\n",
    "print(li)"
   ]
  },
  {
   "cell_type": "code",
   "execution_count": 29,
   "metadata": {},
   "outputs": [
    {
     "name": "stdout",
     "output_type": "stream",
     "text": [
      "a = 10, b = 5, c = 4.234234243\n"
     ]
    }
   ],
   "source": [
    "a = 10\n",
    "b = 5\n",
    "c = 4.234234243\n",
    "print(\"a = {}, b = {}, c = {}\".format(a, b, c))"
   ]
  },
  {
   "cell_type": "code",
   "execution_count": 30,
   "metadata": {
    "pycharm": {
     "is_executing": false
    },
    "slideshow": {
     "slide_type": "slide"
    }
   },
   "outputs": [
    {
     "name": "stdout",
     "output_type": "stream",
     "text": [
      "[1, 2, 4]\n",
      "[1, 2, 4]\n",
      "True True\n"
     ]
    }
   ],
   "source": [
    "#при простом присваивании копируются не значение списка, а ссылка на список\n",
    "a = [1, 2, 3]\n",
    "b = a\n",
    "b[-1] = 4\n",
    "print(a)\n",
    "print(b)\n",
    "print(a == b, a is b)"
   ]
  },
  {
   "cell_type": "code",
   "execution_count": 32,
   "metadata": {
    "pycharm": {
     "is_executing": false
    },
    "slideshow": {
     "slide_type": "slide"
    }
   },
   "outputs": [
    {
     "name": "stdout",
     "output_type": "stream",
     "text": [
      "True False\n",
      "True False\n",
      "True False\n",
      "[1, 2, 100000] [1, 2, 3]\n"
     ]
    }
   ],
   "source": [
    "#для получения полной копии списка можно использовать:\n",
    "a = [1, 2, 3]\n",
    "b = list(a)\n",
    "c = a.copy()\n",
    "d = a[:]\n",
    "print(a == b, a is b)\n",
    "print(a == c, a is d)\n",
    "print(a == d, a is d)\n",
    "d[-1] = 100000\n",
    "print(d, a)"
   ]
  },
  {
   "cell_type": "code",
   "execution_count": 33,
   "metadata": {
    "pycharm": {
     "is_executing": false
    },
    "slideshow": {
     "slide_type": "slide"
    }
   },
   "outputs": [
    {
     "name": "stdout",
     "output_type": "stream",
     "text": [
      "[1, 2, 3, [4, 5, 6, 10]]\n",
      "[1, 2, 3, [4, 5, 6, 10]]\n",
      "[1, 2, 3, [4, 5, 6, 10]]\n",
      "[1, 2, 3, [4, 5, 6, 10, 99]]\n"
     ]
    }
   ],
   "source": [
    "# При копировании вложенного списка вышуказанные способы копируют только ссылку на него\n",
    "a = [1, 2, 3, [4, 5, 6]]\n",
    "b = a[:]\n",
    "b[-1].append(10)\n",
    "print(a)\n",
    "print(b)\n",
    "# для копирования внутренних списков используйте метод deepcopy модуля copy\n",
    "import copy\n",
    "c = copy.deepcopy(a)\n",
    "c[-1].append(99)\n",
    "print(a)\n",
    "print(c)"
   ]
  },
  {
   "cell_type": "code",
   "execution_count": 35,
   "metadata": {
    "pycharm": {
     "is_executing": false
    },
    "slideshow": {
     "slide_type": "slide"
    }
   },
   "outputs": [
    {
     "name": "stdout",
     "output_type": "stream",
     "text": [
      "1\n"
     ]
    }
   ],
   "source": [
    "# списки могут содержать ссылки на самих себя\n",
    "li = [1]\n",
    "li.append(li)\n",
    "print(li[-1][-1][-1][-1][-1][-1][-1][0])"
   ]
  },
  {
   "cell_type": "code",
   "execution_count": 36,
   "metadata": {
    "pycharm": {
     "is_executing": false
    },
    "slideshow": {
     "slide_type": "slide"
    }
   },
   "outputs": [
    {
     "name": "stdout",
     "output_type": "stream",
     "text": [
      "[1, 2, 3, 20]\n",
      "20\n",
      "[1, 2, 3]\n"
     ]
    }
   ],
   "source": [
    "#с помощью методов списков append и pop легко реализовывать стеки и очереди\n",
    "li = [1, 2, 3]\n",
    "li.append(20)\n",
    "print(li)\n",
    "print(li.pop())\n",
    "print(li)"
   ]
  },
  {
   "cell_type": "code",
   "execution_count": 37,
   "metadata": {
    "pycharm": {
     "is_executing": false
    },
    "slideshow": {
     "slide_type": "slide"
    }
   },
   "outputs": [
    {
     "name": "stdout",
     "output_type": "stream",
     "text": [
      "[1, 2, 3, 4, 5, 6] [1, 2, 3]\n",
      "False\n",
      "[1, 2, 3, 4, 5, 6] [1, 2, 3, 4, 5, 6]\n",
      "True\n"
     ]
    }
   ],
   "source": [
    "# для списков есть разница между + и +=\n",
    "li1 = [1, 2, 3]\n",
    "li2 = [4, 5, 6]\n",
    "li3 = li1\n",
    "li1 = li1 + li2\n",
    "print(li1, li3)\n",
    "print(li1 is li3)\n",
    "li1 = li3\n",
    "li1 += li2\n",
    "print(li1, li3)\n",
    "print(li1 is li3)"
   ]
  },
  {
   "cell_type": "code",
   "execution_count": 40,
   "metadata": {
    "pycharm": {
     "is_executing": false
    },
    "slideshow": {
     "slide_type": "slide"
    }
   },
   "outputs": [
    {
     "name": "stdout",
     "output_type": "stream",
     "text": [
      "[1, 3, 5]\n",
      "[10, 9, 8, 7, 6, 5, 4, 3, 2, 1]\n",
      "[1, 99, 3, 98, 5, 97, 7, 8, 9, 10]\n"
     ]
    }
   ],
   "source": [
    "# списки поддерживают срезы\n",
    "li = [1, 2, 3, 4, 5, 6, 7, 8, 9, 10]\n",
    "print(li[:6:2])\n",
    "print(li[::-1])\n",
    "# для срезов работает присваивание\n",
    "li[1:6:2] = [99, 98, 97]\n",
    "print(li)"
   ]
  },
  {
   "cell_type": "markdown",
   "metadata": {
    "slideshow": {
     "slide_type": "slide"
    }
   },
   "source": [
    "Списки можно обойти циклом for, в том порядке, в котором там лежат элементы"
   ]
  },
  {
   "cell_type": "code",
   "execution_count": 43,
   "metadata": {
    "pycharm": {
     "is_executing": false
    }
   },
   "outputs": [
    {
     "name": "stdout",
     "output_type": "stream",
     "text": [
      "2\n",
      "100\n",
      "4\n",
      "99\n",
      "6\n",
      "98\n",
      "8\n",
      "9\n",
      "10\n",
      "11\n",
      "[1, 99, 3, 98, 5, 97, 7, 8, 9, 10]\n",
      "2\n",
      "100\n",
      "4\n",
      "99\n",
      "6\n",
      "98\n",
      "8\n",
      "9\n",
      "10\n",
      "11\n",
      "[2, 100, 4, 99, 6, 98, 8, 9, 10, 11]\n"
     ]
    }
   ],
   "source": [
    "li = [1, 99, 3, 98, 5, 97, 7, 8, 9, 10]\n",
    "for i in li:\n",
    "    i += 1\n",
    "    print(i)\n",
    "print(li)\n",
    "# тоже самое можно сделать с помощью цикла по индексу:\n",
    "for i in range(len(li)):\n",
    "    li[i] += 1\n",
    "    print(li[i])\n",
    "print(li)"
   ]
  },
  {
   "cell_type": "markdown",
   "metadata": {},
   "source": [
    "В случае, когда мы попытаемся достать несуществующий в списке элемент по индексу, то у нас произойдет ошибка. Если же мы попытаемся сделать срез, который захватывает несуществующие элементы, он вернет нам только те элементы, которые есть (или пустой срез, если их нет)"
   ]
  },
  {
   "cell_type": "code",
   "execution_count": 44,
   "metadata": {
    "pycharm": {
     "is_executing": false
    }
   },
   "outputs": [
    {
     "name": "stdout",
     "output_type": "stream",
     "text": [
      "[2, 3]\n",
      "[]\n"
     ]
    },
    {
     "ename": "IndexError",
     "evalue": "list index out of range",
     "output_type": "error",
     "traceback": [
      "\u001b[1;31m---------------------------------------------------------------------------\u001b[0m",
      "\u001b[1;31mIndexError\u001b[0m                                Traceback (most recent call last)",
      "\u001b[1;32m<ipython-input-44-fae39c6c3a40>\u001b[0m in \u001b[0;36m<module>\u001b[1;34m\u001b[0m\n\u001b[0;32m      2\u001b[0m \u001b[0mprint\u001b[0m\u001b[1;33m(\u001b[0m\u001b[0mli\u001b[0m\u001b[1;33m[\u001b[0m\u001b[1;36m1\u001b[0m\u001b[1;33m:\u001b[0m\u001b[1;36m20\u001b[0m\u001b[1;33m]\u001b[0m\u001b[1;33m)\u001b[0m\u001b[1;33m\u001b[0m\u001b[1;33m\u001b[0m\u001b[0m\n\u001b[0;32m      3\u001b[0m \u001b[0mprint\u001b[0m\u001b[1;33m(\u001b[0m\u001b[0mli\u001b[0m\u001b[1;33m[\u001b[0m\u001b[1;36m3\u001b[0m\u001b[1;33m:\u001b[0m\u001b[1;36m4\u001b[0m\u001b[1;33m]\u001b[0m\u001b[1;33m)\u001b[0m\u001b[1;33m\u001b[0m\u001b[1;33m\u001b[0m\u001b[0m\n\u001b[1;32m----> 4\u001b[1;33m \u001b[0mprint\u001b[0m\u001b[1;33m(\u001b[0m\u001b[0mli\u001b[0m\u001b[1;33m[\u001b[0m\u001b[1;36m3\u001b[0m\u001b[1;33m]\u001b[0m\u001b[1;33m)\u001b[0m\u001b[1;33m\u001b[0m\u001b[1;33m\u001b[0m\u001b[0m\n\u001b[0m",
      "\u001b[1;31mIndexError\u001b[0m: list index out of range"
     ]
    }
   ],
   "source": [
    "li = [1, 2, 3]\n",
    "print(li[1:20])\n",
    "print(li[3:4])\n",
    "print(li[3])"
   ]
  },
  {
   "cell_type": "markdown",
   "metadata": {},
   "source": [
    "Для формирования и обработки значений списков часто используются списочные выражения (list comprehension)"
   ]
  },
  {
   "cell_type": "code",
   "execution_count": 50,
   "metadata": {},
   "outputs": [
    {
     "name": "stdout",
     "output_type": "stream",
     "text": [
      "[0, 1, 4, 9, 16, 25, 36, 49, 64, 81]\n",
      "0\n",
      "1\n",
      "4\n",
      "9\n",
      "16\n",
      "25\n",
      "36\n",
      "49\n",
      "64\n",
      "81\n",
      "еще раз\n",
      "0\n",
      "1\n",
      "4\n",
      "9\n",
      "16\n",
      "25\n",
      "36\n",
      "49\n",
      "64\n",
      "81\n",
      "0\n",
      "1\n",
      "4\n",
      "9\n",
      "16\n",
      "25\n",
      "36\n",
      "49\n",
      "64\n",
      "81\n",
      "еще раз\n"
     ]
    }
   ],
   "source": [
    "# Обычные\n",
    "a = []\n",
    "for i in range(10):\n",
    "    a.append(i ** 2)\n",
    "print(a)\n",
    "\n",
    "b = [i ** 2 for i in range(10)]\n",
    "for item in b:\n",
    "    print(item)\n",
    "print(\"еще раз\")\n",
    "for item in b:\n",
    "    print(item)\n",
    "    \n",
    "c = (i ** 2 for i in range(10))\n",
    "for item in c:\n",
    "    print(item)\n",
    "print(\"еще раз\")\n",
    "for item in c:\n",
    "    print(item)\n"
   ]
  },
  {
   "cell_type": "code",
   "execution_count": 4,
   "metadata": {},
   "outputs": [
    {
     "name": "stdout",
     "output_type": "stream",
     "text": [
      "[0, 4, 16, 36, 64]\n",
      "[0, 4, 16, 36, 64]\n"
     ]
    }
   ],
   "source": [
    "# С условием\n",
    "a = []\n",
    "for i in range(10):\n",
    "    if i % 2 == 0:\n",
    "        a.append(i ** 2)\n",
    "print(a)\n",
    "\n",
    "b = [i ** 2 for i in range(10) if i % 2 == 0]\n",
    "print(b)"
   ]
  },
  {
   "cell_type": "code",
   "execution_count": 51,
   "metadata": {},
   "outputs": [
    {
     "name": "stdout",
     "output_type": "stream",
     "text": [
      "['1a', '1b', '1c', '1d', '1e', '1f', '1g', '1h', '2a', '2b', '2c', '2d', '2e', '2f', '2g', '2h', '3a', '3b', '3c', '3d', '3e', '3f', '3g', '3h', '4a', '4b', '4c', '4d', '4e', '4f', '4g', '4h', '5a', '5b', '5c', '5d', '5e', '5f', '5g', '5h', '6a', '6b', '6c', '6d', '6e', '6f', '6g', '6h', '7a', '7b', '7c', '7d', '7e', '7f', '7g', '7h', '8a', '8b', '8c', '8d', '8e', '8f', '8g', '8h']\n",
      "['1a', '1b', '1c', '1d', '1e', '1f', '1g', '1h', '2a', '2b', '2c', '2d', '2e', '2f', '2g', '2h', '3a', '3b', '3c', '3d', '3e', '3f', '3g', '3h', '4a', '4b', '4c', '4d', '4e', '4f', '4g', '4h', '5a', '5b', '5c', '5d', '5e', '5f', '5g', '5h', '6a', '6b', '6c', '6d', '6e', '6f', '6g', '6h', '7a', '7b', '7c', '7d', '7e', '7f', '7g', '7h', '8a', '8b', '8c', '8d', '8e', '8f', '8g', '8h']\n"
     ]
    }
   ],
   "source": [
    "# По нескольким переменным\n",
    "rows = [str(x) for x in [1,2,3,4,5,6,7,8]]\n",
    "cols = list(\"abcdefgh\")\n",
    "res = []\n",
    "for i in rows:\n",
    "    for j in cols:\n",
    "        res.append(i+j)\n",
    "print(res)\n",
    "\n",
    "res = [i+j for i in rows for j in cols]\n",
    "print(res)"
   ]
  },
  {
   "cell_type": "code",
   "execution_count": 52,
   "metadata": {},
   "outputs": [
    {
     "name": "stdout",
     "output_type": "stream",
     "text": [
      "[[1, 5, 9], [2, 6, 10], [3, 7, 11], [4, 8, 12]]\n",
      "[[1, 5, 9], [2, 6, 10], [3, 7, 11], [4, 8, 12]]\n"
     ]
    }
   ],
   "source": [
    "# Вложенные\n",
    "matrix = [\n",
    "    [1, 2, 3, 4],\n",
    "    [5, 6, 7, 8],\n",
    "    [9, 10, 11, 12],\n",
    "]\n",
    "res = []\n",
    "for i in range(4):\n",
    "    res_row = []\n",
    "    for row in matrix:\n",
    "        res_row.append(row[i])\n",
    "    res.append(res_row)\n",
    "print(res)\n",
    "\n",
    "res = [[row[i] for row in matrix] for i in range(4)]\n",
    "print(res)"
   ]
  },
  {
   "cell_type": "markdown",
   "metadata": {},
   "source": [
    "## Кортежи\n",
    "Кортежи очень похожи на списки (они тоже являются индексированной коллекцией), но неизменяемы "
   ]
  },
  {
   "cell_type": "code",
   "execution_count": 55,
   "metadata": {
    "pycharm": {
     "is_executing": false
    }
   },
   "outputs": [
    {
     "name": "stdout",
     "output_type": "stream",
     "text": [
      "(18,)\n"
     ]
    }
   ],
   "source": [
    "card = ('7', 'пик')                 # кортеж из двух элементов; тип элементов может быть любой\n",
    "empty = ()                          # пустой кортеж (из 0 элементов)\n",
    "t = (18 )# кортеж из 1 элемента - запятая нужна, чтобы отличить от обычных скобок\n",
    "print(t)"
   ]
  },
  {
   "cell_type": "markdown",
   "metadata": {},
   "source": [
    "### Запаковка и распаковка"
   ]
  },
  {
   "cell_type": "code",
   "execution_count": 5,
   "metadata": {
    "pycharm": {
     "is_executing": false
    }
   },
   "outputs": [
    {
     "name": "stdout",
     "output_type": "stream",
     "text": [
      "10 20\n",
      "20 10\n",
      "1 2 3 4\n",
      "1 2 3 [4, 5]\n",
      "[1, 2] 3 4 5\n",
      "1 2 [3, 4] 5\n"
     ]
    }
   ],
   "source": [
    "# благодаря запаковке и распаковке можно делать так\n",
    "a, b = 10, 20\n",
    "print(a, b)\n",
    "# так\n",
    "a, b = b, a\n",
    "print(a, b)\n",
    "# так\n",
    "tu = (1, 2, 3, 4)\n",
    "a, b, c, d = tu\n",
    "print(a, b, c, d)\n",
    "# и даже вот так\n",
    "li = [1, 2, 3, 4, 5]\n",
    "a, b, c, *d = li\n",
    "print(a, b, c, d)\n",
    "*a, b, c, d = li\n",
    "print(a, b, c, d)\n",
    "a, b, *c, d = li\n",
    "print(a, b, c, d)"
   ]
  },
  {
   "cell_type": "markdown",
   "metadata": {},
   "source": [
    "В кортеже могут храниться изменяемые объекты (например списки), так как в них хранится не сам объект, а только ссылка на него, вложенные изменяемые объекты можно изменять"
   ]
  },
  {
   "cell_type": "code",
   "execution_count": 57,
   "metadata": {
    "pycharm": {
     "is_executing": false
    }
   },
   "outputs": [
    {
     "name": "stdout",
     "output_type": "stream",
     "text": [
      "(1, 2, 4, 5, [1, 2, 3])\n",
      "(1, 2, 4, 5, [1, 2, 3, 'Hello'])\n"
     ]
    }
   ],
   "source": [
    "tu = 1, 2, 4, 5, [1, 2, 3]\n",
    "print(tu)\n",
    "tu[-1].append(\"Hello\")\n",
    "print(tu)"
   ]
  },
  {
   "cell_type": "markdown",
   "metadata": {},
   "source": [
    "Кортежи также можно обходить циклом for, с гарантированным порядком обхода"
   ]
  },
  {
   "cell_type": "code",
   "execution_count": 58,
   "metadata": {
    "pycharm": {
     "is_executing": false
    }
   },
   "outputs": [
    {
     "name": "stdout",
     "output_type": "stream",
     "text": [
      "1\n",
      "2\n",
      "3\n",
      "4\n"
     ]
    }
   ],
   "source": [
    "for i in (1, 2, 3, 4):\n",
    "    print(i)"
   ]
  },
  {
   "cell_type": "markdown",
   "metadata": {},
   "source": [
    "## Словари\n",
    "\t\n",
    "Словарь — это тип данных, позволяющий, как и список, хранить много данных. В отличие от списка в словаре для каждому элементу соответствует ключ. Значением в словаре могут быть любые данные, ключом - только неизменяемые. Начиная с версии 3.6, словари в Python хранят порядок ключей."
   ]
  },
  {
   "cell_type": "code",
   "execution_count": 63,
   "metadata": {
    "pycharm": {
     "is_executing": false
    }
   },
   "outputs": [
    {
     "name": "stdout",
     "output_type": "stream",
     "text": [
      "{(0, 0): {'key2': 123,\n",
      "          'sample_key': ['s',\n",
      "                         'a',\n",
      "                         'm',\n",
      "                         'p',\n",
      "                         'l',\n",
      "                         'e',\n",
      "                         '_',\n",
      "                         'v',\n",
      "                         'a',\n",
      "                         'l',\n",
      "                         'u',\n",
      "                         'e']}}\n",
      "{(0, 0): {'sample_key': ['s', 'a', 'm', 'p', 'l', 'e', '_', 'v', 'a', 'l', 'u', 'e'], 'key2': 123}}\n"
     ]
    }
   ],
   "source": [
    "import pprint\n",
    "d1 = dict()\n",
    "d2 = {}\n",
    "d2['sample_key'] = list('sample_value')\n",
    "d2['key2'] = 123\n",
    "d1[(0, 0)] = d2\n",
    "pprint.pprint(d1)\n",
    "print(d1)"
   ]
  },
  {
   "cell_type": "code",
   "execution_count": 6,
   "metadata": {
    "pycharm": {
     "is_executing": false
    }
   },
   "outputs": [
    {
     "name": "stdout",
     "output_type": "stream",
     "text": [
      "dict_keys([1, 2, 3, 4])\n",
      "dict_values([1, 4, 9, 16])\n",
      "dict_items([(1, 1), (2, 4), (3, 9), (4, 16)])\n",
      "1 в квадрате будет 1\n",
      "1 в квадрате будет 1\n",
      "2 в квадрате будет 4\n",
      "2 в квадрате будет 4\n",
      "3 в квадрате будет 9\n",
      "3 в квадрате будет 9\n",
      "4 в квадрате будет 16\n",
      "4 в квадрате будет 16\n"
     ]
    }
   ],
   "source": [
    "# можно получить как ключи и значения по отдельности, так и все вместе\n",
    "d = {1: 1, 2: 4, 3: 9, 4: 16}\n",
    "print(d.keys())\n",
    "print(d.values())\n",
    "print(d.items())\n",
    "for k, v in d.items():\n",
    "    print(f'{k} в квадрате будет {v}')\n",
    "    print(\"{} в квадрате будет {}\".format(k, v))"
   ]
  },
  {
   "cell_type": "code",
   "execution_count": 66,
   "metadata": {},
   "outputs": [
    {
     "ename": "KeyError",
     "evalue": "10",
     "output_type": "error",
     "traceback": [
      "\u001b[1;31m---------------------------------------------------------------------------\u001b[0m",
      "\u001b[1;31mKeyError\u001b[0m                                  Traceback (most recent call last)",
      "\u001b[1;32m<ipython-input-66-8df22337dcb2>\u001b[0m in \u001b[0;36m<module>\u001b[1;34m\u001b[0m\n\u001b[0;32m      1\u001b[0m \u001b[1;31m#При попытке получить элемент по несуществующему ключу возникнет ошибка\u001b[0m\u001b[1;33m\u001b[0m\u001b[1;33m\u001b[0m\u001b[1;33m\u001b[0m\u001b[0m\n\u001b[0;32m      2\u001b[0m \u001b[0md\u001b[0m \u001b[1;33m=\u001b[0m \u001b[1;33m{\u001b[0m\u001b[1;36m1\u001b[0m\u001b[1;33m:\u001b[0m \u001b[1;36m2\u001b[0m\u001b[1;33m,\u001b[0m \u001b[1;36m2\u001b[0m\u001b[1;33m:\u001b[0m \u001b[1;36m4\u001b[0m\u001b[1;33m,\u001b[0m \u001b[1;36m3\u001b[0m\u001b[1;33m:\u001b[0m \u001b[1;36m9\u001b[0m\u001b[1;33m,\u001b[0m \u001b[1;36m4\u001b[0m\u001b[1;33m:\u001b[0m \u001b[1;36m16\u001b[0m\u001b[1;33m}\u001b[0m\u001b[1;33m\u001b[0m\u001b[1;33m\u001b[0m\u001b[0m\n\u001b[1;32m----> 3\u001b[1;33m \u001b[0mprint\u001b[0m\u001b[1;33m(\u001b[0m\u001b[0md\u001b[0m\u001b[1;33m[\u001b[0m\u001b[1;36m10\u001b[0m\u001b[1;33m]\u001b[0m\u001b[1;33m)\u001b[0m\u001b[1;33m\u001b[0m\u001b[1;33m\u001b[0m\u001b[0m\n\u001b[0m",
      "\u001b[1;31mKeyError\u001b[0m: 10"
     ]
    }
   ],
   "source": [
    "#При попытке получить элемент по несуществующему ключу возникнет ошибка\n",
    "d = {1: 2, 2: 4, 3: 9, 4: 16}\n",
    "print(d[10])"
   ]
  },
  {
   "cell_type": "code",
   "execution_count": 67,
   "metadata": {},
   "outputs": [
    {
     "name": "stdout",
     "output_type": "stream",
     "text": [
      "0\n",
      "0\n"
     ]
    }
   ],
   "source": [
    "# Либо проверям вхождения ключа\n",
    "d = {1: 2, 2: 4, 3: 9, 4: 16}\n",
    "print(d[10] if 10 in d else 0)\n",
    "\n",
    "# Либо используем get\n",
    "print(d.get(10, 0))\n"
   ]
  },
  {
   "cell_type": "code",
   "execution_count": null,
   "metadata": {},
   "outputs": [],
   "source": [
    "# можно использовать словарные выражения для формирования словаря\n",
    "d = {x: x ** 2 for x in (2, 4, 6)}\n",
    "print(d)"
   ]
  },
  {
   "cell_type": "code",
   "execution_count": 68,
   "metadata": {},
   "outputs": [
    {
     "name": "stdout",
     "output_type": "stream",
     "text": [
      "{'list': [1, 2, 10]}\n",
      "{'list': [1, 2, 10]}\n"
     ]
    }
   ],
   "source": [
    "# для получения полной копии лучше использовать copy.deepcopy\n",
    "import copy\n",
    "a = [1, 2, 3]\n",
    "d = {'list': a}\n",
    "\n",
    "c = d.copy()\n",
    "c['list'][-1] = 10\n",
    "print(d)\n",
    "\n",
    "c = copy.deepcopy(d)\n",
    "c['list'][-1] = 777\n",
    "print(d)"
   ]
  },
  {
   "cell_type": "code",
   "execution_count": 72,
   "metadata": {},
   "outputs": [
    {
     "name": "stdout",
     "output_type": "stream",
     "text": [
      "['a', 'b', 'c', 'd']\n"
     ]
    }
   ],
   "source": [
    "a = {}\n",
    "a['a'] = 1\n",
    "a['b'] = 2\n",
    "a['c'] = 3\n",
    "a['b'] = 5\n",
    "a['d'] = 6\n",
    "print(list(a))"
   ]
  },
  {
   "cell_type": "markdown",
   "metadata": {},
   "source": [
    "### Примеры использования"
   ]
  },
  {
   "cell_type": "code",
   "execution_count": 73,
   "metadata": {
    "pycharm": {
     "is_executing": false
    }
   },
   "outputs": [
    {
     "name": "stdout",
     "output_type": "stream",
     "text": [
      "{'п': 1, 'р': 1, 'и': 2, 'в': 1, 'е': 3, 'т': 1, ' ': 2, 'я': 1, 'н': 1, 'д': 1, 'к': 1, 'с': 1, 'л': 1, 'ц': 1, 'й': 1}\n"
     ]
    }
   ],
   "source": [
    "# частотная характеристика\n",
    "d = {}\n",
    "text = \"привет яндекс лицей\"\n",
    "for letter in text:\n",
    "    d[letter] = d.get(letter, 0) + 1\n",
    "print(d)"
   ]
  },
  {
   "cell_type": "code",
   "execution_count": 74,
   "metadata": {
    "pycharm": {
     "is_executing": false
    }
   },
   "outputs": [
    {
     "name": "stdout",
     "output_type": "stream",
     "text": [
      "{(56, 55): 'Москва', (85, 23): 'Магадан', (99, 33): 'Париж', (53, 33): 'Москва'}\n",
      "{'Москва': (53, 33), 'Магадан': (85, 23), 'Париж': (99, 33)}\n"
     ]
    }
   ],
   "source": [
    "# хранение координат объектов\n",
    "d = {}\n",
    "d[(56, 55)] = \"Москва\" \n",
    "d[(85, 23)] = \"Магадан\"\n",
    "d[(99, 33)] = \"Лондон\"\n",
    "d[53, 33] = \"Москва\"\n",
    "d[(99, 33)] = \"Париж\"\n",
    "print(d)\n",
    "# Можно развернуть словарь но при этом могут потеряться повторяющиеся значения\n",
    "d2 = {v: k for k, v in d.items()}\n",
    "print(d2)"
   ]
  }
 ],
 "metadata": {
  "celltoolbar": "Slideshow",
  "kernelspec": {
   "display_name": "Python 3",
   "language": "python",
   "name": "python3"
  },
  "language_info": {
   "codemirror_mode": {
    "name": "ipython",
    "version": 3
   },
   "file_extension": ".py",
   "mimetype": "text/x-python",
   "name": "python",
   "nbconvert_exporter": "python",
   "pygments_lexer": "ipython3",
   "version": "3.7.3"
  }
 },
 "nbformat": 4,
 "nbformat_minor": 1
}
