{
 "cells": [
  {
   "cell_type": "markdown",
   "metadata": {},
   "source": [
    "### Простые встроенные функции"
   ]
  },
  {
   "cell_type": "markdown",
   "metadata": {},
   "source": [
    "в программировании (и в Python, в частности) функция — это сущность, которая из одного (или даже нескольких) значений делает другое. При этом она может еще и выполнять какие-то действия.\n",
    "Например, есть функция модуля у = |x|, аналогично в Python есть функция y = abs(x).\n",
    "Но функции в Python необязательно принимают только числа."
   ]
  },
  {
   "cell_type": "code",
   "execution_count": null,
   "metadata": {},
   "outputs": [],
   "source": [
    "a = int(input())"
   ]
  },
  {
   "cell_type": "markdown",
   "metadata": {},
   "source": [
    "что будет означать — «получи строку из ввода, сделай из нее целое число и результат помести в переменную а».\n",
    "Функция int может быть применена и для получения целого числа из вещественного, в таком случае дробная часть будет отброшена (без округления)."
   ]
  },
  {
   "cell_type": "markdown",
   "metadata": {},
   "source": [
    "Длина строки\n",
    "Длина строки — это количество символов в строке.\n",
    "Для определения длины строки используется стандартная функция Python len()."
   ]
  },
  {
   "cell_type": "code",
   "execution_count": null,
   "metadata": {},
   "outputs": [],
   "source": [
    "word = input()\n",
    "length = len(word)\n",
    "print('Вы ввели слово длиной', length, 'букв.')"
   ]
  },
  {
   "cell_type": "markdown",
   "metadata": {},
   "source": [
    "Использование в программе функции называется «вызов функции». Он устроен так: пишем имя функции — len, а затем в скобках те данные, которые мы передаем этой функции, чтобы она что-то с ними сделала. Такие данные называются аргументами.\n",
    "На место вызова функции (то есть имени функции и ее аргументов в скобках) подставляется результат ее работы, это называется возвращаемое значение функции."
   ]
  },
  {
   "cell_type": "markdown",
   "metadata": {},
   "source": [
    "### Функции"
   ]
  },
  {
   "cell_type": "markdown",
   "metadata": {},
   "source": [
    "Функция\n",
    "\n",
    "Функция — особым образом сгруппированный набор команд, которые выполняются последовательно, но воспринимаются как единое целое. При этом функция может возвращать (или не возвращать) свой результат.\n",
    "Обращение к ранее объявленной функции с целью выполнения ее команд называется вызовом."
   ]
  },
  {
   "cell_type": "markdown",
   "metadata": {},
   "source": [
    "Определение простейших функций:\n",
    "Заголовок и тело функции\n",
    "У каждой функции есть заголовок (его обычно называют сигнатурой) и тело.\n",
    "Сигнатура описывает, как функцию вызывать, а тело описывает, что эта функция делает.\n",
    "Сигнатура содержит имя функции и аргументы (то есть параметры), которые передаются в функцию."
   ]
  },
  {
   "cell_type": "code",
   "execution_count": null,
   "metadata": {},
   "outputs": [],
   "source": [
    "def <имя функции>([аргументы]):\n",
    "    <тело функции>"
   ]
  },
  {
   "cell_type": "markdown",
   "metadata": {},
   "source": [
    "Функцию, как и переменную, необходимо сначала объявить, и только потом использовать"
   ]
  },
  {
   "cell_type": "markdown",
   "metadata": {},
   "source": [
    "### Области видимости переменных"
   ]
  },
  {
   "cell_type": "code",
   "execution_count": null,
   "metadata": {},
   "outputs": [],
   "source": [
    "def print_array(array):\n",
    "    for element in array:\n",
    "        print(element)"
   ]
  },
  {
   "cell_type": "markdown",
   "metadata": {},
   "source": [
    "Переменная array будет локальной. Она существует только во время выполнения (или «жизни», как иногда говорят) функции. Можно сказать, что имя аргумента функции — временное имя для переданного в функцию значения."
   ]
  },
  {
   "cell_type": "code",
   "execution_count": 5,
   "metadata": {},
   "outputs": [
    {
     "name": "stdout",
     "output_type": "stream",
     "text": [
      "Hello\n",
      "world\n"
     ]
    }
   ],
   "source": [
    "def print_array(array):\n",
    "    for element in array:\n",
    "        print(element)\n",
    "words = ['Hello', 'world']\n",
    "print_array(words)"
   ]
  },
  {
   "cell_type": "markdown",
   "metadata": {},
   "source": [
    "Теперь у списка есть имя words. Но в момент выполнения функции у этого списка существуют сразу два имени: words — имя из «внешнего мира», из глобальной области видимости, и array — локальное имя. В функции можно использовать любое из них, но внешнее — крайне не рекомендуется."
   ]
  },
  {
   "cell_type": "markdown",
   "metadata": {},
   "source": [
    "К внешним переменным прибегать допустимо, если переменная — константа. Константы обычно пишутся большими буквами, чтобы не перепутать их с обычными переменными."
   ]
  },
  {
   "cell_type": "code",
   "execution_count": 1,
   "metadata": {},
   "outputs": [
    {
     "name": "stdout",
     "output_type": "stream",
     "text": [
      "желтый\n",
      "yellow\n"
     ]
    }
   ],
   "source": [
    "ENGLISH_RAINBOW_COLORS = [\n",
    "    'red', 'orange', 'yellow', 'green', 'blue', 'indigo', 'violet'\n",
    "]\n",
    "RUSSIAN_RAINBOW_COLORS = [\n",
    "    'красный', 'оранжевый', 'желтый', 'зеленый', 'голубой', 'синий',\n",
    "    'фиолетовый'\n",
    "]\n",
    "\n",
    "\n",
    "def rainbow_color(index, russian_or_english):\n",
    "    if russian_or_english == 'russian':\n",
    "        print(RUSSIAN_RAINBOW_COLORS[index])\n",
    "    elif russian_or_english == 'english':\n",
    "        print(ENGLISH_RAINBOW_COLORS[index])\n",
    "    else:\n",
    "        print('Неверный язык')\n",
    "\n",
    "\n",
    "rainbow_color(2, 'russian')\n",
    "rainbow_color(2, 'english')\n"
   ]
  },
  {
   "cell_type": "markdown",
   "metadata": {},
   "source": [
    "Заметьте, что мы не передаем  константы в функцию как аргументы, а просто пользуемся ими. Они есть в нашем распоряжении, потому что определены на самом верхнем уровне."
   ]
  },
  {
   "cell_type": "code",
   "execution_count": null,
   "metadata": {},
   "outputs": [],
   "source": [
    "Области видимости переменных\n",
    "\n",
    "Сформулируем общее правило, касающееся видимости переменных:\n",
    "\n",
    "Внутри функции видны все переменные этой функции (локальные переменные и аргументы функции).\n",
    "Внутри функции видны переменные, которые определены снаружи этой функции.\n",
    "Снаружи не видны никакие переменные, которые определены внутри функции."
   ]
  },
  {
   "cell_type": "markdown",
   "metadata": {},
   "source": [
    "Ситуация, когда внутри функции используется переменная с тем же именем, что и в основной программе, но перед использованием ей присваивается новое значение:"
   ]
  },
  {
   "cell_type": "code",
   "execution_count": 1,
   "metadata": {},
   "outputs": [
    {
     "name": "stdout",
     "output_type": "stream",
     "text": [
      "Место встречи:  Красная площадь\n",
      "Площадь площади:  24750\n",
      "Повторяю, место встречи:  Красная площадь\n"
     ]
    }
   ],
   "source": [
    "area = 'Красная площадь'\n",
    "def print_square_area(length, width):\n",
    "    area = length * width\n",
    "    print('Площадь площади: ', area)\n",
    "\n",
    "print('Место встречи: ', area)\n",
    "print_square_area(330, 75)\n",
    "print('Повторяю, место встречи: ', area)"
   ]
  },
  {
   "cell_type": "code",
   "execution_count": null,
   "metadata": {},
   "outputs": [],
   "source": [
    "Оказывается, area внутри функции и снаружи — это две совершенно разные переменные.\n",
    "Если внутри функции переменной что-то присваивается (в любом месте функции),\n",
    "интерпретатор не позволит вам работать с внешней переменной.\n",
    "Вместо этого он создает новую переменную с тем же именем и присваивает значение уже ей.\n",
    "При этом к внешней переменной вы обратиться уже не можете: внутри функции она потеряла свое имя.\n",
    "Как иногда говорят, внутренняя переменная с тем же именем ее перекрыла, или затенила \n",
    "(на английском языке это называется variable shadowing)."
   ]
  },
  {
   "cell_type": "markdown",
   "metadata": {},
   "source": [
    "Для того чтобы не вносить в программу лишние глобальные переменные, часто весь код с внешнего уровня программы (т. е. все, что не находится внутри функции) переносят в отдельную функцию main. После этого остается только вызвать ее. Все переменные, которые были глобальными, таким образом, становятся локальными для функции main и не загрязняют область видимости других функций."
   ]
  },
  {
   "cell_type": "code",
   "execution_count": 1,
   "metadata": {},
   "outputs": [
    {
     "name": "stdout",
     "output_type": "stream",
     "text": [
      "Место встречи:  Красная площадь\n",
      "Площадь площади:  24750\n",
      "Повторяю, место встречи:  Красная площадь\n"
     ]
    }
   ],
   "source": [
    "def print_square_area(length, width):\n",
    "    area = length * width\n",
    "    print('Площадь площади: ', area)\n",
    "\n",
    "\n",
    "def main():\n",
    "    area = 'Красная площадь'\n",
    "    print('Место встречи: ', area)\n",
    "    print_square_area(330, 75)\n",
    "    print('Повторяю, место встречи: ', area)\n",
    "\n",
    "\n",
    "main()"
   ]
  },
  {
   "cell_type": "markdown",
   "metadata": {},
   "source": [
    "Впрочем, если у вас есть глобальная переменная и вам зачем-то очень нужно повлиять на эту внешнюю переменную, это можно сделать.\n",
    "\n",
    "Для изменения глобальной переменной перед тем, как присваивать внутри функции этой переменной какое-то значение, нужно указать, что она глобальная, т. е. относится к внешней области видимости."
   ]
  },
  {
   "cell_type": "code",
   "execution_count": 2,
   "metadata": {},
   "outputs": [
    {
     "name": "stdout",
     "output_type": "stream",
     "text": [
      "Ты спрашиваешь меня уже в 1-й раз\n",
      "Ты спрашиваешь меня уже в 2-й раз\n",
      "Ты спрашиваешь меня уже в 3-й раз\n",
      "Ты спрашиваешь меня уже в 4-й раз\n"
     ]
    }
   ],
   "source": [
    "ask_number = 0\n",
    "\n",
    "def ask_again():\n",
    "    global ask_number\n",
    "    ask_number = ask_number + 1\n",
    "    print('Ты спрашиваешь меня уже в ', ask_number, '-й раз', sep='')\n",
    "\n",
    "ask_again()\n",
    "ask_again()\n",
    "ask_again()\n",
    "ask_again()"
   ]
  },
  {
   "cell_type": "markdown",
   "metadata": {},
   "source": [
    "### Функции как объект. Лямбда-функции"
   ]
  },
  {
   "cell_type": "markdown",
   "metadata": {},
   "source": [
    "Бывают объекты числа, бывают строки, бывают списки. А бывают — функции. У каждого из этих типов есть свои операции, свой синтаксис, но все они являются объектами\n"
   ]
  },
  {
   "cell_type": "markdown",
   "metadata": {},
   "source": [
    "Функции высшего порядка:\n",
    "Объект функции можно не только записать в переменную, но и передать в качестве аргумента в другую функцию и даже вернуть из функции.\n",
    "\n",
    "Функции, которые принимают или возвращают другие функции, называются функциями высшего порядка."
   ]
  },
  {
   "cell_type": "code",
   "execution_count": null,
   "metadata": {},
   "outputs": [],
   "source": [
    "Функция filter\n",
    "\n",
    "Функция filter принимает критерий отбора элементов, а затем сам список элементов.\n",
    "Возвращает она список из элементов, удовлетворяющих критерию."
   ]
  },
  {
   "cell_type": "code",
   "execution_count": 8,
   "metadata": {},
   "outputs": [
    {
     "name": "stdout",
     "output_type": "stream",
     "text": [
      "['останутся', 'длинные']\n"
     ]
    }
   ],
   "source": [
    "def is_word_long(word):\n",
    "    return len(word) > 6\n",
    "a = ['В', 'новом', 'списке', 'останутся', 'только', 'длинные', 'слова']\n",
    "long_words = list(filter(is_word_long, a))\n",
    "print(long_words)\n"
   ]
  },
  {
   "cell_type": "markdown",
   "metadata": {},
   "source": [
    "Лямбда-функции\n",
    "\n",
    "Такие короткие безымянные (анонимные) функции можно создавать инструкцией lambda <аргументы>: <выражение>.\n",
    "\n",
    "Такая инструкция создаст функцию, принимающую указанный список аргументов и возвращающую результат вычисления выражения.\n",
    "\n",
    "В языке Python тело лямбда-функции имеет ровно одно выражение. Инструкция return подразумевается, писать ее не требуется, да и нельзя. Скобки вокруг аргументов не пишутся, аргументы от выражения отделяет двоеточие."
   ]
  },
  {
   "cell_type": "code",
   "execution_count": 10,
   "metadata": {},
   "outputs": [
    {
     "data": {
      "text/plain": [
       "['останутся', 'длинные']"
      ]
     },
     "execution_count": 10,
     "metadata": {},
     "output_type": "execute_result"
    }
   ],
   "source": [
    "words = ['В', 'новом', 'списке', 'останутся', 'только', 'длинные', 'слова']\n",
    "long_words = list(filter(lambda word: len(word) > 6, words))\n",
    "long_words"
   ]
  },
  {
   "cell_type": "code",
   "execution_count": null,
   "metadata": {},
   "outputs": [],
   "source": [
    "add = lambda x, y: x + y\n",
    "add(3, 5) # => 8\n",
    "add(1, add(2, 3)) # => 6"
   ]
  },
  {
   "cell_type": "code",
   "execution_count": 16,
   "metadata": {},
   "outputs": [
    {
     "name": "stdout",
     "output_type": "stream",
     "text": [
      "2 3 5 7 11 13 17 19 23 29 \n",
      "11 13 17 19 23 29 "
     ]
    }
   ],
   "source": [
    "def print_some_primes(criterion):\n",
    "    primes = [2, 3, 5, 7, 11, 13, 17, 19, 23, 29]\n",
    "    for number in filter(criterion, primes):\n",
    "        print(number, end=' ')\n",
    "\n",
    "\n",
    "print_some_primes(lambda x: True)\n",
    "# => [2, 3, 5, 7, 11, 13, 17, 19, 23, 29]\n",
    "print()\n",
    "print_some_primes(lambda x: len(str(x))  > 1)"
   ]
  },
  {
   "cell_type": "code",
   "execution_count": 21,
   "metadata": {},
   "outputs": [
    {
     "data": {
      "text/plain": [
       "[('Jack', 76), ('Cirus', 77), ('Beneth', 78), ('Faiz', 79)]"
      ]
     },
     "execution_count": 21,
     "metadata": {},
     "output_type": "execute_result"
    }
   ],
   "source": [
    "sample = [('Jack', 76), ('Beneth', 78), ('Cirus', 77), ('Faiz', 79)]\n",
    "sample.sort(key=lambda a: a[1])\n",
    "sample"
   ]
  },
  {
   "cell_type": "code",
   "execution_count": 22,
   "metadata": {},
   "outputs": [
    {
     "ename": "SyntaxError",
     "evalue": "positional argument follows keyword argument (2711433850.py, line 2)",
     "output_type": "error",
     "traceback": [
      "\u001b[1;36m  Input \u001b[1;32mIn [22]\u001b[1;36m\u001b[0m\n\u001b[1;33m    sample.sort(key=lambda a: a[1], a[0])\u001b[0m\n\u001b[1;37m                                        ^\u001b[0m\n\u001b[1;31mSyntaxError\u001b[0m\u001b[1;31m:\u001b[0m positional argument follows keyword argument\n"
     ]
    }
   ],
   "source": [
    "sample = [('Jack', 76), ('Beneth', 76), ('Cirus', 77), ('Faiz', 79)]\n",
    "sample.sort(key=lambda a: a[1], a[0])\n",
    "sample"
   ]
  },
  {
   "cell_type": "markdown",
   "metadata": {},
   "source": [
    "Функция map\n",
    "\n",
    "Функция map преобразует каждый элемент списка по некоторому общему правилу и в результате создает список (вернее, как и filter, специальный итерируемый объект, похожий на список) из преобразованных значений."
   ]
  },
  {
   "cell_type": "code",
   "execution_count": 19,
   "metadata": {},
   "outputs": [
    {
     "name": "stdout",
     "output_type": "stream",
     "text": [
      "qwe rt uioo\n",
      "[1, 4, 9, 16, 25, 36, 49, 64, 81]\n",
      "[3, 2, 4]\n"
     ]
    }
   ],
   "source": [
    "b = list(map(lambda x: x ** 2, range(1, 10)))\n",
    "# => [1, 4, 9, 16, 25, 36, 49, 64, 81]\n",
    "a = list(map(len, input().split()))\n",
    "print(b)\n",
    "print(a)"
   ]
  },
  {
   "cell_type": "markdown",
   "metadata": {},
   "source": [
    "### Библиотеки"
   ]
  },
  {
   "cell_type": "markdown",
   "metadata": {},
   "source": [
    "одна из причин популярности Python связана с тем, что он очень быстро стал интегрироваться с огромным количеством библиотек, написанных на других языках программирования.\n",
    "\n",
    "Библиотека\n",
    "\n",
    "Библиотека в программировании — сборник подпрограмм или объектов, используемых для разработки программного обеспечения, или ПО. Так гласит Википедия.\n",
    "\n",
    "Давайте немного поясним. Правила структурного программирования говорят, что любая программа должна иметь структуру, а именно: делиться на взаимодействующие компоненты (блоки) — файлы, функции, классы."
   ]
  },
  {
   "cell_type": "markdown",
   "metadata": {},
   "source": [
    "Следующий этап заключается в возможности использовать часть кода одной программы из другой программы. Обычно это нужно, чтобы повторно использовать код: не писать одно и то же два раза. А еще — не переписывать код, написанный на другом языке программирования. Такое свойство часто называют модульностью\n",
    "\n",
    "Самый простой контейнер для кода — функция. Часто используемые функции объединяются по своему типу в библиотеки. Например, функции по работе с видеофайлами, функции, отвечающие за соединение и получение информации из Интернета и т. д.\n",
    "\n",
    "Библиотеки могут объединяться в более крупные сборники, в итоге иногда получаются настоящие монстры, относящиеся к какой-то широкой области. Например, OpenCV — это библиотека для компьютерного зрения, Django — для веб-программирования, Scipy — для научных вычислений.\n",
    "\n",
    "В Python библиотеки называются модулями.\n",
    "\n",
    "Итак, современный язык программирования напоминает наборы конструкторов, которые совместимы друг с другом."
   ]
  },
  {
   "cell_type": "markdown",
   "metadata": {},
   "source": [
    "### Репозиторий PyPI"
   ]
  },
  {
   "cell_type": "markdown",
   "metadata": {},
   "source": [
    "PyPI(https://pypi.python.org/pypi) — центральный репозиторий (хранилище) модулей для языка программирования Python. Он как PlayMarket для Android, AppStore для iPhone или CPAN для Perl.\n",
    "\n",
    "Пройдите по ссылке. Вы увидите страницу, которая начинается со следующих слов:\n",
    "\n",
    "The Python Package Index (PyPI) is a repository of software for the Python programming language.\n",
    "\n",
    "PyPI helps you find and install software developed and shared by the Python community.\n",
    "\n",
    "Обратите внимание: количество модулей уже превысило 350 000!"
   ]
  },
  {
   "cell_type": "markdown",
   "metadata": {},
   "source": [
    "### Модули"
   ]
  },
  {
   "cell_type": "markdown",
   "metadata": {},
   "source": [
    "Стандартной библиотеке посвящен целый раздел документации (https://docs.python.org/3/library/). "
   ]
  },
  {
   "cell_type": "markdown",
   "metadata": {},
   "source": [
    "Особенности импорта модулей\n",
    "\n",
    "Значения после директивы import можно писать через запятую:\n",
    "from math import sin, cos, tan\n",
    "Значок * означает, что из библиотеки нужно импортировать все, что доступно.\n",
    "from math import *"
   ]
  },
  {
   "cell_type": "markdown",
   "metadata": {},
   "source": [
    "Модулем в Python называется любой файл с программой (да-да, все те программы, которые вы писали, можно назвать модулями).\n",
    "Каждая программа может импортировать модуль и получить доступ к его классам, функциям и объектам. Нужно заметить, что модуль может быть написан не только на Python, а например, на C или C++.\n",
    "Посмотрим  как подключить модуль, из стандартной библиотеки (https://pythonworld.ru/moduli) или написанный вами\n",
    "Подключить модуль можно с помощью инструкции import. К примеру, подключим модуль os для получения текущей директории:"
   ]
  },
  {
   "cell_type": "code",
   "execution_count": null,
   "metadata": {},
   "outputs": [],
   "source": [
    "import os\n",
    "os.getcwd()\n",
    "import math\n",
    "math.e  ##  2.718281828459045\n"
   ]
  },
  {
   "cell_type": "markdown",
   "metadata": {},
   "source": [
    "Если название модуля слишком длинное, или оно вам не нравится по каким-то другим причинам, то для него можно создать псевдоним, с помощью ключевого слова as."
   ]
  },
  {
   "cell_type": "code",
   "execution_count": null,
   "metadata": {},
   "outputs": [],
   "source": [
    "import math as m\n",
    "m.e"
   ]
  },
  {
   "cell_type": "markdown",
   "metadata": {},
   "source": [
    "Подключить определенные атрибуты модуля можно с помощью инструкции from"
   ]
  },
  {
   "cell_type": "code",
   "execution_count": 21,
   "metadata": {},
   "outputs": [
    {
     "data": {
      "text/plain": [
       "5"
      ]
     },
     "execution_count": 21,
     "metadata": {},
     "output_type": "execute_result"
    }
   ],
   "source": [
    "from math import e, ceil as c\n",
    "e  ## 2.718281828459045\n",
    "c(4.6) ## 5"
   ]
  },
  {
   "cell_type": "code",
   "execution_count": null,
   "metadata": {},
   "outputs": [],
   "source": [
    "Второй формат инструкции from позволяет подключить все (точнее, почти все) переменные из модуля.\n",
    "Для примера импортируем все атрибуты из модуля sys:\n",
    "from sys import *"
   ]
  },
  {
   "cell_type": "markdown",
   "metadata": {},
   "source": [
    "Создание своего модуля на Python\n",
    "\n",
    "Теперь пришло время создать свой модуль. Создадим файл mymodule.py, в которой определим какие-нибудь функции:"
   ]
  },
  {
   "cell_type": "code",
   "execution_count": null,
   "metadata": {},
   "outputs": [],
   "source": [
    "def hello():\n",
    "    print('Hello, world!')\n",
    "\n",
    "def fib(n):\n",
    "    a = b = 1\n",
    "    for i in range(n - 2):\n",
    "        a, b = b, a + b\n",
    "    return b"
   ]
  },
  {
   "cell_type": "markdown",
   "metadata": {},
   "source": [
    "Теперь в этой же папке создадим другой файл, например, main.py:"
   ]
  },
  {
   "cell_type": "code",
   "execution_count": null,
   "metadata": {},
   "outputs": [],
   "source": [
    "import mymodule\n",
    "\n",
    "mymodule.hello()\n",
    "print(mymodule.fib(10))"
   ]
  },
  {
   "cell_type": "markdown",
   "metadata": {},
   "source": [
    "Выведет:\n",
    "\n",
    "Hello, world!\n",
    "55\n",
    "Таким образом мы создали свой модуль!"
   ]
  },
  {
   "cell_type": "markdown",
   "metadata": {},
   "source": [
    "### Модуль random"
   ]
  },
  {
   "cell_type": "markdown",
   "metadata": {},
   "source": [
    "Для получения одного псевдослучайного целого числа можно воспользоваться одной из двух функций: randrange или randint. Функция randrange возвращает случайное число из диапазона"
   ]
  },
  {
   "cell_type": "code",
   "execution_count": 18,
   "metadata": {},
   "outputs": [
    {
     "name": "stdout",
     "output_type": "stream",
     "text": [
      "27\n",
      "40\n",
      "11\n"
     ]
    }
   ],
   "source": [
    "from random import randrange, randint\n",
    "\n",
    "# возвращаем случайное целое из диапазона\n",
    "print(randrange(100))\n",
    "print(randrange(40, 100, 5))\n",
    "print(randint(10, 20))"
   ]
  },
  {
   "cell_type": "markdown",
   "metadata": {},
   "source": [
    "Функция choice\n",
    "\n",
    "Одна из самых популярных — функция choice. С ее помощью можно выбрать один вариант из нескольких альтернатив, заданных в списке, кортеже, строке или любом другом индексируемом типе. choice нельзя применять для неупорядоченных коллекций — например, множеств и словарей."
   ]
  },
  {
   "cell_type": "code",
   "execution_count": 2,
   "metadata": {},
   "outputs": [
    {
     "name": "stdout",
     "output_type": "stream",
     "text": [
      "5 2\n",
      "6 6\n",
      "6 4\n",
      "1 6\n",
      "5 1\n",
      "1 2\n",
      "1 4\n",
      "3 5\n",
      "1 4\n"
     ]
    }
   ],
   "source": [
    "from random import choice\n",
    "\n",
    "dashes = [1, 2, 3, 4, 5, 6]\n",
    "for i in range(1, 10):\n",
    "    print(choice(dashes), choice(dashes))"
   ]
  },
  {
   "cell_type": "markdown",
   "metadata": {},
   "source": [
    "Если нам нужно вернуть не один, а несколько элементов, на помощь придут функции choiсes и sample. choices возвращает заданное именованным параметром k количество элементов с возможными повторами (коллекция должна быть непустой), sample — без повторов, но выборка должна быть меньше или равна длине коллекции, иначе тоже будет ошибка."
   ]
  },
  {
   "cell_type": "code",
   "execution_count": 3,
   "metadata": {},
   "outputs": [
    {
     "name": "stdout",
     "output_type": "stream",
     "text": [
      "['No', 'Yes', 'May be', 'May be', 'May be']\n",
      "[2, 5, 8, 7, 6, 4]\n"
     ]
    }
   ],
   "source": [
    "from random import choices, sample\n",
    "\n",
    "my_list = ['Yes', 'No', 'May be']\n",
    "# выбираем k элементов коллекции с повторениями\n",
    "print(choices(my_list, k=5))\n",
    "# выбираем k элементов без повторений\n",
    "print(sample(range(10), 6))"
   ]
  },
  {
   "cell_type": "markdown",
   "metadata": {},
   "source": [
    "### Модуль datetime"
   ]
  },
  {
   "cell_type": "markdown",
   "metadata": {},
   "source": [
    "Модуль datetime предназначен для работы с датами и временем и предоставляет, кроме функций, несколько новых типов данных. Библиотека чаще всего применяется для того, чтобы узнать текущую дату или время:\n",
    "\n",
    "Но ее можно использовать и для более интересных вещей, она предоставляет несколько интересных типов данных: time, date, datetime — для хранения времени, даты и совместно даты и времени."
   ]
  },
  {
   "cell_type": "code",
   "execution_count": 4,
   "metadata": {},
   "outputs": [
    {
     "name": "stdout",
     "output_type": "stream",
     "text": [
      "2024-05-15 18:52:12.317886\n",
      "18:52:12.317886\n",
      "2024-05-15\n"
     ]
    }
   ],
   "source": [
    "import datetime as dt\n",
    "\n",
    "print(dt.datetime.now())\n",
    "print(dt.datetime.now().time())\n",
    "print(dt.datetime.now().date())"
   ]
  },
  {
   "cell_type": "markdown",
   "metadata": {},
   "source": []
  },
  {
   "cell_type": "markdown",
   "metadata": {},
   "source": [
    "С помощью функции today() можно узнать текущую дату на компьютере, а с помощью функции weekday() — день недели (нумерация с 0)."
   ]
  },
  {
   "cell_type": "code",
   "execution_count": 5,
   "metadata": {},
   "outputs": [
    {
     "name": "stdout",
     "output_type": "stream",
     "text": [
      "<class 'datetime.date'>\n",
      "2024-05-15\n",
      "2\n"
     ]
    }
   ],
   "source": [
    "import datetime as dt\n",
    "\n",
    "# тип данных 'дата' (год + месяц + день)\n",
    "my_date = dt.date(2020, 11, 7)\n",
    "print(type(my_date))\n",
    "print(dt.date.today())\n",
    "print(dt.date.today().weekday())"
   ]
  },
  {
   "cell_type": "markdown",
   "metadata": {},
   "source": [
    "Обратиться к отдельным частям объекта datetime можно через точку и название части: например, year (аналогично можно поступить для date или time). С помощью функции now() можно узнать текущее дату и время."
   ]
  },
  {
   "cell_type": "code",
   "execution_count": 12,
   "metadata": {},
   "outputs": [
    {
     "name": "stdout",
     "output_type": "stream",
     "text": [
      "2022-12-15 13:25:09\n",
      "2020-11-05 23:15:29\n",
      "2020\n",
      "2023-04-26 19:42:00.780366\n"
     ]
    }
   ],
   "source": [
    "import datetime as dt\n",
    "\n",
    "# тип данных дата + время\n",
    "my_datetime = dt.datetime(2022, 12, 15, 13, 25, 9)\n",
    "print(my_datetime)\n",
    "# можно объединить дату и время\n",
    "my_date = dt.date(2020, 11, 5)\n",
    "my_time = dt.time(23, 15, 29)\n",
    "my_datetime = dt.datetime.combine(my_date, my_time)\n",
    "print(my_datetime)\n",
    "print(my_datetime.year)\n",
    "# и получить текущую дату и время\n",
    "print(dt.datetime.now())"
   ]
  },
  {
   "cell_type": "markdown",
   "metadata": {},
   "source": [
    "Тип timedelta необходим для создания объектов, содержащих некоторый временной интервал. При создании таких объектов можно указать, сколько дней, часов, минут, секунд, недель содержит временной интервал. Как и с другими типами модуля datetime, с частями временного интервала можно обращаться аналогично. С помощью функции total_seconds() можно узнать длину интервала в секундах."
   ]
  },
  {
   "cell_type": "code",
   "execution_count": 13,
   "metadata": {},
   "outputs": [
    {
     "name": "stdout",
     "output_type": "stream",
     "text": [
      "14 days, 0:00:10\n",
      "14\n",
      "1209610.0\n"
     ]
    }
   ],
   "source": [
    "import datetime as dt\n",
    "\n",
    "# тип данных временной интервал\n",
    "delta_time1 = dt.timedelta(seconds=10, weeks=2)\n",
    "print(delta_time1)\n",
    "print(delta_time1.days)\n",
    "print(delta_time1.total_seconds())"
   ]
  },
  {
   "cell_type": "markdown",
   "metadata": {},
   "source": [
    "Для интервалов, дат, времени и типа datetime поддерживаются математические и логические операции. Мы можем сложить два интервала времени, вычесть один из другого, увеличить интервал в n раз, уменьшить интервал в n раз, а с помощью деления узнать, сколько раз один интервал помещается в другой."
   ]
  },
  {
   "cell_type": "code",
   "execution_count": 14,
   "metadata": {},
   "outputs": [
    {
     "name": "stdout",
     "output_type": "stream",
     "text": [
      "3 days, 3:00:00\n",
      "5 days, 5:00:00\n",
      "41 days, 16:00:00\n",
      "10:00:00\n",
      "4.0\n"
     ]
    }
   ],
   "source": [
    "import datetime as dt\n",
    "\n",
    "# поддерживаются математические и логические операции\n",
    "# для интервалов времени\n",
    "delta_time1 = dt.timedelta(days=4, hours=4)\n",
    "delta_time2 = dt.timedelta(days=1, hours=1)\n",
    "print(delta_time1 - delta_time2)\n",
    "print(delta_time1 + delta_time2)\n",
    "print(delta_time1 * 10)\n",
    "print(delta_time1 / 10)\n",
    "print(delta_time1 / delta_time2)"
   ]
  },
  {
   "cell_type": "markdown",
   "metadata": {},
   "source": [
    "К датам мы можем прибавлять временной интервал или удалять интервал для получения новой даты, которая раньше/позже на этот интервал. При вычитании одной даты из другой мы получим интервал времени между датами. С помощью логических функций мы можем узнать, какая дата позже (т. е. больше) или раньше (т. е. меньше)."
   ]
  },
  {
   "cell_type": "code",
   "execution_count": 15,
   "metadata": {},
   "outputs": [
    {
     "name": "stdout",
     "output_type": "stream",
     "text": [
      "2022-02-23\n",
      "2022-02-15\n",
      "500 days, 0:00:00\n",
      "False\n"
     ]
    }
   ],
   "source": [
    "import datetime as dt\n",
    "\n",
    "# поддерживаются математические и логические операции для дат\n",
    "date1 = dt.date(2022, 2, 19)\n",
    "date2 = dt.date(2020, 10, 7)\n",
    "delta_time1 = dt.timedelta(days=4, hours=4)\n",
    "print(date1 + delta_time1)\n",
    "print(date1 - delta_time1)\n",
    "print(date1 - date2)\n",
    "print(date2 > date1)"
   ]
  },
  {
   "cell_type": "markdown",
   "metadata": {},
   "source": [
    "Аналогичные действия работают и для datetime."
   ]
  },
  {
   "cell_type": "code",
   "execution_count": 16,
   "metadata": {},
   "outputs": [
    {
     "name": "stdout",
     "output_type": "stream",
     "text": [
      "2022-12-19 17:25:09\n",
      "2022-12-11 09:25:09\n",
      "730 days, 0:00:00\n",
      "True\n"
     ]
    }
   ],
   "source": [
    "import datetime as dt\n",
    "\n",
    "# поддерживаются математические и логические операции для типа datetime\n",
    "datetime1 = dt.datetime(2022, 12, 15, 13, 25, 9)\n",
    "datetime2 = dt.datetime(2020, 12, 15, 13, 25, 9)\n",
    "delta_time1 = dt.timedelta(days=4, hours=4)\n",
    "print(datetime1 + delta_time1)\n",
    "print(datetime1 - delta_time1)\n",
    "print(datetime1 - datetime2)\n",
    "print(datetime2 < datetime1)"
   ]
  },
  {
   "cell_type": "markdown",
   "metadata": {},
   "source": [
    "Кроме того, для времени, даты и типа datetime поддерживается форматированный вывод, который позволяет представлять информацию в удобном для нас виде."
   ]
  },
  {
   "cell_type": "code",
   "execution_count": 6,
   "metadata": {},
   "outputs": [
    {
     "name": "stdout",
     "output_type": "stream",
     "text": [
      "Wednesday 15-May-24 19:03:34\n",
      "May\n"
     ]
    }
   ],
   "source": [
    "import datetime as dt\n",
    "\n",
    "# поддерживается форматированный вывод\n",
    "my_format = \"%B\"\n",
    "print(dt.datetime.now().strftime(\"%A %d-%B-%y %H:%M:%S\"))\n",
    "print(dt.date.today().strftime(my_format))"
   ]
  },
  {
   "cell_type": "markdown",
   "metadata": {},
   "source": [
    "Основные обозначения для строки-формата приведены в таблице:\n",
    "\n",
    "Команда\tЗначение\tПример\n",
    "%a\tАббревиатура дня недели\tSun, Mon, …, Sat (en_US);So, Mo, …, Sa (de_DE)\n",
    "%A\tПолное название дня недели\tSunday, Monday, …, Saturday (en_US);Sonntag, Montag, …, Samstag (de_DE)\n",
    "%w\tДень недели как десятичное число, где 0 — воскресенье, а 6 — суббота\t0, 1, …, 6\n",
    "%d\tДень месяца в формате из двух цифр\t01, 02, …, 31\n",
    "%b\tАббревиатура месяца\tJan, Feb, …, Dec (en_US);Jan, Feb, …, Dez (de_DE)\n",
    "%B\tПолное название месяца\tJanuary, February, …, December (en_US);Januar, Februar, …, Dezember (de_DE)\n",
    "%m\tНомер месяца в формате из двух цифр\t01, 02, …, 12\n",
    "%y\tПоследние 2 цифры года (год без века)\t00, 01, …, 99\n",
    "%Y\tГод полностью\t0001, 0002, …, 2013, 2014, …, 9998, 9999\n",
    "%H\tЧас в 24-часовом формате из двух цифр\t00, 01, …, 23\n",
    "%I\tЧас в 12-часовом формате из двух цифр\t01, 02, …, 12\n",
    "%p\tAM или PM\tAM, PM (en_US);am, pm (de_DE)\n",
    "%M\tМинута в формате из двух цифр\t00, 01, …, 59\n",
    "%S\tСекунда в формате их двух цифр\t00, 01, …, 59\n",
    "%f\tМикросекунды в формате из 6 цифр\t000000, 000001, …, 999999\n",
    "%j\tДень в году в формате из 3 цифр\t001, 002, …, 366\n",
    "%U\tНеделя в году\t00, 01, …, 53\n",
    "%c\tПринятое, согласно локальным настройкам, представление даты и времени\tTue Aug 16 21:30:00 1988 (en_US);Di 16 Aug 21:30:00 1988 (de_DE)\n",
    "%x\tПринятое, согласно локальным настройкам, представление даты\t08/16/88 (None);08/16/1988 (en_US);16.08.1988 (de_DE)\n",
    "%X\tПринятое, согласно локальным настройкам, представление времени\t21:30:00 (en_US);21:30:00 (de_DE)\n",
    "%%\tЗнак '%'\t%\n",
    "Более подробно можно посмотреть в документации (https://docs.python.org/3.10/library/datetime.html)."
   ]
  }
 ],
 "metadata": {
  "kernelspec": {
   "display_name": "Python 3 (ipykernel)",
   "language": "python",
   "name": "python3"
  },
  "language_info": {
   "codemirror_mode": {
    "name": "ipython",
    "version": 3
   },
   "file_extension": ".py",
   "mimetype": "text/x-python",
   "name": "python",
   "nbconvert_exporter": "python",
   "pygments_lexer": "ipython3",
   "version": "3.9.12"
  }
 },
 "nbformat": 4,
 "nbformat_minor": 2
}
