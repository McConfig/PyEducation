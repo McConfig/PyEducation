{
 "cells": [
  {
   "cell_type": "markdown",
   "metadata": {},
   "source": [
    "# Форматированный вывод. f-строки"
   ]
  },
  {
   "cell_type": "markdown",
   "metadata": {},
   "source": [
    "*f-строки\n",
    "\n",
    "f-строки, которые буквально означают formatted string, задаются с помощью литерала f перед кавычками:\n",
    "\n",
    ">>> \"обычная строка\"\n",
    ">>> f\"f-строка\"\n",
    "f-строки делают очень простую вещь: они берут значения переменных, которые есть в текущей области видимости, и подставляют их в строку. В самой строке вам лишь нужно указать имя этой переменной в фигурных скобках."
   ]
  },
  {
   "cell_type": "code",
   "execution_count": 2,
   "metadata": {},
   "outputs": [
    {
     "name": "stdout",
     "output_type": "stream",
     "text": [
      "Меня зовут Владимир. Мне 14 лет.\n"
     ]
    }
   ],
   "source": [
    "name = \"Владимир\"\n",
    "age = 14\n",
    "print(f\"Меня зовут {name}. Мне {age} лет.\")"
   ]
  },
  {
   "cell_type": "markdown",
   "metadata": {},
   "source": [
    "В качестве подставляемого значения внутри фигурных скобок может быть:\n",
    " имя переменной (f\"Меня зовут {name}\"), элемент списка (f\"Третий месяц в году - {month[2]}\") или словаря, методы объектов (f\"Имя: {name.upper()}\"). f-строки позволяют выполнять базовые арифметические операции (f\"({x} + {y}) / 2 = {(x + y) / 2}\") и даже вызывать функции (f\"13 / 7 = {round(13/7)}\").\n",
    "\n",
    "Кроме того, вы можете задавать форматирование для чисел.\n",
    "\n",
    "Указать необходимое количество знаков после запятой, спецификатор f отвечает за вывод чисел с плавающей точкой (тип float):"
   ]
  },
  {
   "cell_type": "code",
   "execution_count": 9,
   "metadata": {},
   "outputs": [
    {
     "name": "stdout",
     "output_type": "stream",
     "text": [
      "Число пи по Архимеду - 3.14\n"
     ]
    }
   ],
   "source": [
    "print(f\"Число пи по Архимеду - {(22/7):.2f}\")"
   ]
  },
  {
   "cell_type": "markdown",
   "metadata": {},
   "source": [
    "Представить результат в двоичной системе счисления, используя спецификатор b:\n",
    "Аналогично для шестнадцатеричной системы счисления используется спецификатор x, а для восьмеричной —o"
   ]
  },
  {
   "cell_type": "code",
   "execution_count": 10,
   "metadata": {},
   "outputs": [
    {
     "name": "stdout",
     "output_type": "stream",
     "text": [
      "10 в двоичной системе счисления - 1010\n"
     ]
    }
   ],
   "source": [
    "print(f\"10 в двоичной системе счисления - {(10):b}\")"
   ]
  },
  {
   "cell_type": "markdown",
   "metadata": {},
   "source": [
    "# Форматирование строк с помощью метода format"
   ]
  },
  {
   "cell_type": "code",
   "execution_count": 11,
   "metadata": {},
   "outputs": [
    {
     "data": {
      "text/plain": [
       "'Hello, Vasya!'"
      ]
     },
     "execution_count": 11,
     "metadata": {},
     "output_type": "execute_result"
    }
   ],
   "source": [
    "'Hello, {}!'.format('Vasya')"
   ]
  },
  {
   "cell_type": "code",
   "execution_count": 12,
   "metadata": {},
   "outputs": [
    {
     "data": {
      "text/plain": [
       "'a, b, c'"
      ]
     },
     "execution_count": 12,
     "metadata": {},
     "output_type": "execute_result"
    }
   ],
   "source": [
    "'{0}, {1}, {2}'.format('a', 'b', 'c')"
   ]
  },
  {
   "cell_type": "code",
   "execution_count": 13,
   "metadata": {},
   "outputs": [
    {
     "data": {
      "text/plain": [
       "'abracadabra'"
      ]
     },
     "execution_count": 13,
     "metadata": {},
     "output_type": "execute_result"
    }
   ],
   "source": [
    "'{0}{1}{0}'.format('abra', 'cad')"
   ]
  },
  {
   "cell_type": "code",
   "execution_count": 14,
   "metadata": {},
   "outputs": [
    {
     "data": {
      "text/plain": [
       "'Coordinates: 37.24N, -115.81W'"
      ]
     },
     "execution_count": 14,
     "metadata": {},
     "output_type": "execute_result"
    }
   ],
   "source": [
    "'Coordinates: {latitude}, {longitude}'.format(latitude='37.24N', longitude='-115.81W')"
   ]
  },
  {
   "cell_type": "markdown",
   "metadata": {},
   "source": [
    "# Приоритет операций"
   ]
  },
  {
   "cell_type": "markdown",
   "metadata": {},
   "source": []
  },
  {
   "cell_type": "markdown",
   "metadata": {},
   "source": [
    "# Поток ввода (stdin)"
   ]
  },
  {
   "cell_type": "markdown",
   "metadata": {},
   "source": [
    "Поток ввода (stdin) — специальный объект в программе, куда попадает весь текст, который ввел пользователь. Потоком его называют потому, что данные хранятся там до тех пор, пока программа их не считала. Данные поступают в программу и временно «складируются» в потоке ввода, а программа может «забрать» их оттуда, например, при помощи функции input(). В момент прочтения они пропадают из потока ввода: он хранит данные «до востребования».\n",
    "sys.stdin — пример итератора, который невозможно перезапустить. Как и любой итератор, он может двигаться только вперед. Но если для списка можно сделать второй итератор, который начнет чтение с начала списка, то с потоком ввода такое не пройдет. Как только данные прочитаны, они удаляются из потока ввода безвозвратно.\n",
    "Элементы, которые выдает этот итератор, — строки, введенные пользователем. Если пользовательский ввод закончен, итератор тоже прекращает работу. Пока пользователь не ввел последнюю строку, мы не знаем, сколько элементов в итераторе.\n",
    "Поэтому, если вы не знаете, в какой момент надо прекратить ввод, воспользоваться функцией input() не удастся. В таких случаях остается только работать с sys.stdin."
   ]
  },
  {
   "cell_type": "code",
   "execution_count": 2,
   "metadata": {},
   "outputs": [],
   "source": [
    "import sys\n",
    "for line in sys.stdin:\n",
    "    # rstrip('\\n') \"отрезает\" от строки line идущий справа символ\n",
    "    # перевода строки, ведь print сам переводит строку\n",
    "    print(line.rstrip('\\n'))"
   ]
  },
  {
   "cell_type": "markdown",
   "metadata": {},
   "source": [
    "Пока есть данные в потоке sys.stdin (то есть пока пользователь их вводит), программа будет получать вводимые строки в переменную line, убирать справа символы перевода строки и выводить их на печать.\n",
    "\n",
    "Но если вы запустите эту программу, она будет работать вечно. Чтобы показать, что ввод закончен, пользователю недостаточно нажать Enter — компьютер не знает, завершил пользователь работу или будет еще что-то вводить (при этом Enter превратится в пустую строку). Вместо этого вы должны нажать Ctrl + D (если работаете в консоли Linux или IDE PyCharm) либо Ctrl + Z, затем Enter (если работаете в консоли Windows).\n",
    "\n",
    "Если вы работаете в IDE Wing, кликните правой кнопкой мыши и выберите Send EOF, затем нажмите Enter. Это запишет в поток ввода специальный символ EOF (end of file), который отмечает конец ввода."
   ]
  },
  {
   "cell_type": "code",
   "execution_count": null,
   "metadata": {},
   "outputs": [],
   "source": [
    "data = sys.stdin.readlines()  # список\n",
    "str_data = sys.stdin.read()  # строка\n",
    "data = list(map(str.strip, sys.stdin))  # список без симолов перевода строки"
   ]
  },
  {
   "cell_type": "markdown",
   "metadata": {},
   "source": [
    "# Работа с файлами"
   ]
  },
  {
   "cell_type": "markdown",
   "metadata": {},
   "source": [
    "Открытие и закрытие файла"
   ]
  },
  {
   "cell_type": "markdown",
   "metadata": {},
   "source": [
    "Для открытия файла используется функция open(), которая возвращает файловый объект. Наиболее часто используемый вид данной функции выглядит так open(имя_файла, режим_доступа).\n",
    "Для указания режима доступа используется следующие символы:\n",
    "‘r’ – открыть файл для чтения;\n",
    "‘w’ – открыть файл для записи;\n",
    "‘x’ – открыть файл с целью создания, если файл существует, то вызов функции open завершится с ошибкой;\n",
    "‘a’ – открыть файл для записи, при этом новые данные будут добавлены в конец файла, без удаления существующих;\n",
    "‘b’ – бинарный режим;\n",
    "‘t’ – текстовый режим;\n",
    "‘+’ – открывает файл для обновления.\n",
    "По умолчанию файл открывается на чтение в текстовом режиме.\n",
    "У файлового объекта есть следующие аfile.name: test.txtтрибуты.\n",
    "file.closed – возвращает true если файл закрыт и false в противном случае;\n",
    "file.mode – возвращает режим доступа к файлу, при этом файл должен быть открыт;\n",
    "file.name – имя файла."
   ]
  },
  {
   "cell_type": "code",
   "execution_count": null,
   "metadata": {},
   "outputs": [],
   "source": [
    "f = open(\"test.txt\", \"r\")\n",
    "print(\"file.name: \" + f.name)  # file.name: test.txt"
   ]
  },
  {
   "cell_type": "markdown",
   "metadata": {},
   "source": [
    "Путь файла (или путь к файлу) — последовательное указание имен каталогов, через которые надо пройти, чтобы добраться до объекта. Каталоги в записи пути разделяются слешем. В зависимости от вида ОС слеши могут быть как прямыми, так и обратными.\n",
    "\n",
    " На ОС Windows путь выглядит так: f = open('C:\\\\users\\\\user\\\\1.txt')\n",
    "\n",
    "*Сейчас принято использовать одну из самых распространенных кодировок — UTF-8. Мы поступим так же.\n",
    "\n",
    "UTF-8 — сложная кодировка, в которой символ кодируется от одного до шестью байтами. Подробнее про эту кодировку можно почитать здесь.\n",
    "\n",
    "Но помните, что до сих пор существуют и старые однобайтовые кодировки:\n",
    "\n",
    "Windows-1251;\n",
    "cp-866;\n",
    "КОИ-8.\n",
    "Они по умолчанию используются в некоторых ОС, например, в Windows."
   ]
  },
  {
   "cell_type": "markdown",
   "metadata": {},
   "source": [
    "Чтение данных из файла осуществляется с помощью методов read(размер) и readline().\n",
    "\n",
    "Метод read(размер) считывает из файла определенное количество символов, переданное в качестве аргумента. Если использовать этот метод без аргументов, то будет считан весь файл."
   ]
  },
  {
   "cell_type": "code",
   "execution_count": null,
   "metadata": {},
   "outputs": [],
   "source": [
    "f = open(\"test.txt\", \"r\")\n",
    "f.read()\n",
    "\n",
    "f.close()"
   ]
  },
  {
   "cell_type": "markdown",
   "metadata": {},
   "source": [
    "Метод readline() позволяет считать строку из открытого файла"
   ]
  },
  {
   "cell_type": "code",
   "execution_count": 3,
   "metadata": {},
   "outputs": [],
   "source": [
    "f = open(\"test.txt\", \"r\")\n",
    "f.readline()  #  '1 2 3 4 5\\n'\n",
    "f.close()"
   ]
  },
  {
   "cell_type": "markdown",
   "metadata": {},
   "source": [
    "Построчное считывание можно организовать с  помощью оператора for"
   ]
  },
  {
   "cell_type": "code",
   "execution_count": 7,
   "metadata": {},
   "outputs": [
    {
     "name": "stdout",
     "output_type": "stream",
     "text": [
      "12345\n",
      "678\n",
      "9\n",
      "Test string"
     ]
    }
   ],
   "source": [
    "f = open(\"test.txt\", \"r\")\n",
    "for line in f:\n",
    "    print(line,end='')"
   ]
  },
  {
   "cell_type": "markdown",
   "metadata": {},
   "source": [
    "Для записи данных файл используется метод write(строка), при успешной записи он вернет количество записанных символов."
   ]
  },
  {
   "cell_type": "code",
   "execution_count": 6,
   "metadata": {},
   "outputs": [
    {
     "name": "stdout",
     "output_type": "stream",
     "text": [
      "11\n"
     ]
    }
   ],
   "source": [
    "f = open(\"test.txt\", \"a\")\n",
    "print(f.write(\"Else Test string\"))\n",
    "f.close()"
   ]
  },
  {
   "cell_type": "markdown",
   "metadata": {},
   "source": [
    "Хорошей практикой при работе с файлами является применение оператора with. При его использовании нет необходимости закрывать файл, при завершении работы с ним, эта операция будет выполнена автоматически."
   ]
  },
  {
   "cell_type": "code",
   "execution_count": null,
   "metadata": {},
   "outputs": [],
   "source": [
    "with open(\"test.txt\", \"r\") as f:\n",
    "    for line in f:\n",
    "        print(line)"
   ]
  },
  {
   "cell_type": "code",
   "execution_count": null,
   "metadata": {},
   "outputs": [],
   "source": [
    "Метод readlines() Считывает из файла все строки в список и возвращает его."
   ]
  },
  {
   "cell_type": "code",
   "execution_count": null,
   "metadata": {},
   "outputs": [],
   "source": [
    "with open('my_file.txt') as f:\n",
    "    my_lines = f.readlines()  # ['The first line.\\n', '\\n', 'The last line.\\n']"
   ]
  },
  {
   "cell_type": "markdown",
   "metadata": {},
   "source": [
    "Считать файл можно также при помощи конструктора list():"
   ]
  },
  {
   "cell_type": "code",
   "execution_count": null,
   "metadata": {},
   "outputs": [],
   "source": [
    "with open('my_file.txt') as f:\n",
    "    my_lines = list(f)  # ['The first line.\\n', '\\n', 'The last line.\\n']"
   ]
  },
  {
   "cell_type": "markdown",
   "metadata": {},
   "source": [
    "Для записи строк можно использовать writelines()."
   ]
  }
 ],
 "metadata": {
  "kernelspec": {
   "display_name": "Python 3",
   "language": "python",
   "name": "python3"
  },
  "language_info": {
   "codemirror_mode": {
    "name": "ipython",
    "version": 3
   },
   "file_extension": ".py",
   "mimetype": "text/x-python",
   "name": "python",
   "nbconvert_exporter": "python",
   "pygments_lexer": "ipython3",
   "version": "3.7.3"
  }
 },
 "nbformat": 4,
 "nbformat_minor": 2
}
