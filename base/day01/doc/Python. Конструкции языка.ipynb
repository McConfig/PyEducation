{
 "cells": [
  {
   "cell_type": "markdown",
   "metadata": {},
   "source": [
    "## Python. Конструкции языка\n",
    "1. Условный оператор\n",
    "2. Вложенные условия\n",
    "3. Цикл while\n",
    "4. Цикл For"
   ]
  },
  {
   "cell_type": "markdown",
   "metadata": {},
   "source": [
    "### 1. Условный оператор"
   ]
  },
  {
   "cell_type": "code",
   "execution_count": null,
   "metadata": {},
   "outputs": [],
   "source": [
    "if условие:\n",
    "    Действия, если условие верно\n",
    "else:\n",
    "    Действия, если условие неверно"
   ]
  },
  {
   "cell_type": "code",
   "execution_count": 1,
   "metadata": {},
   "outputs": [
    {
     "name": "stdout",
     "output_type": "stream",
     "text": [
      "Введите пароль:\n",
      "qwerty\n",
      "Доступ открыт.\n"
     ]
    }
   ],
   "source": [
    "print('Введите пароль:')\n",
    "password = input()\n",
    "if password == 'qwerty':\n",
    "    print('Доступ открыт.')\n",
    "else:\n",
    "    print('Ошибка, доступ закрыт!')"
   ]
  },
  {
   "cell_type": "markdown",
   "metadata": {},
   "source": [
    "Приоритет выполнения операций:\n",
    "1. not\n",
    "2. and\n",
    "3. or\n",
    "Операции отношения:\n",
    "\n",
    " < меньше\n",
    " > больше\n",
    " <= меньше или равно\n",
    " >= больше или равно\n",
    " == равно\n",
    " != не равно"
   ]
  },
  {
   "cell_type": "code",
   "execution_count": null,
   "metadata": {},
   "outputs": [],
   "source": [
    "print('Введите имена двух братьев из античных мифов и легенд.')\n",
    "brother1 = input()\n",
    "brother2 = input()\n",
    "if brother1 == 'Ромул' and brother2 == 'Рем' or brother1 == 'Кастор' and (brother2 == 'Поллукс' or brother2 == 'Полидевк'):\n",
    "    print('Верно.')\n",
    "else:\n",
    "    print('Неверно.')"
   ]
  },
  {
   "cell_type": "markdown",
   "metadata": {},
   "source": [
    "### 2. Вложенные условия"
   ]
  },
  {
   "cell_type": "code",
   "execution_count": 4,
   "metadata": {},
   "outputs": [
    {
     "name": "stdout",
     "output_type": "stream",
     "text": [
      "Представься, о незнакомец!\n",
      "123\n",
      "Приветик.\n",
      "Погода сегодня хорошая.\n",
      "Засим - заканчиваем.\n"
     ]
    }
   ],
   "source": [
    "print('Представься, о незнакомец!')\n",
    "name = input()\n",
    "if name == 'Цезарь' or name == 'Caesar':\n",
    "    print('Аве, Цезарь!')\n",
    "    print('В честь какого бога устроим сегодня празднество?')\n",
    "    god = input()\n",
    "    if god == 'Юпитер':\n",
    "        print('Ура Громовержцу!')\n",
    "    # если оказалось, что имя бога не 'Юпитер', то проверяем, \n",
    "    # не равно ли оно строке 'Минерва'\n",
    "    elif god == 'Минерва': \n",
    "        print('Ура мудрой воспительнице!')\n",
    "    # следующая строка будет выполнена, \n",
    "    # только если имя бога не 'Юпитер' и не 'Минерва'\n",
    "    else: \n",
    "        print('Бога по имени', god, 'мы не знаем, но слово Цезаря - закон.')\n",
    "    # эта команда будет выполнена независимо от того, \n",
    "    # какое имя бога ввёл пользователь, если только изначально\n",
    "    # он представился Цезарем\n",
    "    print('Слава императору!') \n",
    "else:\n",
    "    print('Приветик.')\n",
    "    print('Погода сегодня хорошая.')\n",
    "print('Засим - заканчиваем.')"
   ]
  },
  {
   "cell_type": "markdown",
   "metadata": {},
   "source": [
    "### 3.  Цикл while"
   ]
  },
  {
   "cell_type": "markdown",
   "metadata": {},
   "source": [
    "Цикл while\n",
    "Оператор while («пока») тоже проверяет условие и тоже, в случае его истинности, выполняет следующий блок кода (тело цикла). Однако после выполнения этого блока кода выполняется не то, что идет после него, а снова проверяется условие, записанное после while."
   ]
  },
  {
   "cell_type": "code",
   "execution_count": null,
   "metadata": {},
   "outputs": [],
   "source": [
    "while условие:\n",
    "    блок кода (тело цикла)"
   ]
  },
  {
   "cell_type": "markdown",
   "metadata": {},
   "source": [
    "Условие цикла записывается как и для if: с помощью операций отношения (>, >=, <, <=, !=, ==). Cложные условия можно составлять с помощью логических операций not, and, or."
   ]
  },
  {
   "cell_type": "code",
   "execution_count": 7,
   "metadata": {},
   "outputs": [
    {
     "name": "stdout",
     "output_type": "stream",
     "text": [
      "4\n",
      "Вы ввели положительное число! Вводите дальше.\n",
      "-7\n",
      "Так-так, что тут у нас...\n",
      "Вы ввели отрицательное число или ноль. Всё.\n"
     ]
    }
   ],
   "source": [
    "number = int(input())\n",
    "while number > 0:\n",
    "    print('Вы ввели положительное число! Вводите дальше.')\n",
    "    number = int(input())\n",
    "    print('Так-так, что тут у нас...')\n",
    "print('Вы ввели отрицательное число или ноль. Всё.')"
   ]
  },
  {
   "cell_type": "markdown",
   "metadata": {},
   "source": [
    "### 4.  Цикл For "
   ]
  },
  {
   "cell_type": "code",
   "execution_count": null,
   "metadata": {},
   "outputs": [],
   "source": [
    "\n",
    "for ... in range(...):\n",
    "    блок кода (тело цикла)"
   ]
  },
  {
   "cell_type": "code",
   "execution_count": 8,
   "metadata": {},
   "outputs": [
    {
     "name": "stdout",
     "output_type": "stream",
     "text": [
      "3\n",
      "0\n",
      "1\n",
      "2\n"
     ]
    }
   ],
   "source": [
    "n = int(input())\n",
    "for i in range(n):\n",
    "    print(i)"
   ]
  },
  {
   "cell_type": "markdown",
   "metadata": {},
   "source": [
    "range означает «диапазон», то есть for i in range(n) читается как «для (всех) i в диапазоне от 0 (включительно) до n (не включительно)...». Цикл выполняется n раз."
   ]
  },
  {
   "cell_type": "markdown",
   "metadata": {},
   "source": [
    " у цикла for, как и у цикла while, есть else-часть, которая работает по такому же принципу: она выполняется после того, как цикл завершается штатно."
   ]
  },
  {
   "cell_type": "code",
   "execution_count": 1,
   "metadata": {},
   "outputs": [
    {
     "name": "stdout",
     "output_type": "stream",
     "text": [
      "0\n",
      "1\n",
      "2\n",
      "3\n",
      "4\n",
      "5\n",
      "6\n",
      "7\n",
      "8\n",
      "9\n",
      "Мы в else\n"
     ]
    }
   ],
   "source": [
    "for i in range(10):\n",
    "    print(i)\n",
    "else:\n",
    "    print('Мы в else')"
   ]
  },
  {
   "cell_type": "code",
   "execution_count": null,
   "metadata": {},
   "outputs": [],
   "source": []
  }
 ],
 "metadata": {
  "kernelspec": {
   "display_name": "Python 3",
   "language": "python",
   "name": "python3"
  },
  "language_info": {
   "codemirror_mode": {
    "name": "ipython",
    "version": 3
   },
   "file_extension": ".py",
   "mimetype": "text/x-python",
   "name": "python",
   "nbconvert_exporter": "python",
   "pygments_lexer": "ipython3",
   "version": "3.7.3"
  }
 },
 "nbformat": 4,
 "nbformat_minor": 2
}
